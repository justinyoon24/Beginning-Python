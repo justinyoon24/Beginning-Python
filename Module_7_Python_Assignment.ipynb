{
 "cells": [
  {
   "cell_type": "markdown",
   "metadata": {},
   "source": [
    "# MSDS 430 Module 7 Python Assignment"
   ]
  },
  {
   "cell_type": "markdown",
   "metadata": {},
   "source": [
    "<div class=\"alert alert-block alert-warning\"> In this assignment you will complete the following exercises and submit your <b>notebook</b> and <b>html file</b> to Canvas. Your files should include all output, i.e. run each cell and save your file before submitting.</div>"
   ]
  },
  {
   "cell_type": "markdown",
   "metadata": {},
   "source": [
    "<div class=\"alert alert-block alert-info\">In this exercise you will work with TripAdvisor customer review data for the <b> Best Western Plus Pioneer Square Hotel Downtown Hotel</b> in Seattle, Washington. The data is stored in a JSON file. JSON is a popular language-independent data format derived from JavaScript. In fact, JSON stands for JavaScript Object Notation. The load method in the json module in Python can be used to parse a JSON file with result being a Python dictionary. Then by using dictionary methods we can extract the list of reviews for the hotel and then use String methods to get information from within the comments made by the users.</div>"
   ]
  },
  {
   "cell_type": "code",
   "execution_count": 3,
   "metadata": {},
   "outputs": [
    {
     "name": "stdout",
     "output_type": "stream",
     "text": [
      "Requirement already satisfied: TextBlob in /Users/bingo41/opt/anaconda3/lib/python3.8/site-packages (0.15.3)\n",
      "Requirement already satisfied: nltk>=3.1 in /Users/bingo41/opt/anaconda3/lib/python3.8/site-packages (from TextBlob) (3.5)\n",
      "Requirement already satisfied: click in /Users/bingo41/opt/anaconda3/lib/python3.8/site-packages (from nltk>=3.1->TextBlob) (7.1.2)\n",
      "Requirement already satisfied: regex in /Users/bingo41/opt/anaconda3/lib/python3.8/site-packages (from nltk>=3.1->TextBlob) (2020.10.15)\n",
      "Requirement already satisfied: tqdm in /Users/bingo41/opt/anaconda3/lib/python3.8/site-packages (from nltk>=3.1->TextBlob) (4.50.2)\n",
      "Requirement already satisfied: joblib in /Users/bingo41/opt/anaconda3/lib/python3.8/site-packages (from nltk>=3.1->TextBlob) (0.17.0)\n"
     ]
    }
   ],
   "source": [
    "# If you never installed TextBlob before you need to run this cell\n",
    "!pip install TextBlob"
   ]
  },
  {
   "cell_type": "markdown",
   "metadata": {},
   "source": [
    "### Import all the modules we are going to need"
   ]
  },
  {
   "cell_type": "code",
   "execution_count": 150,
   "metadata": {},
   "outputs": [],
   "source": [
    "import pandas as pd\n",
    "import matplotlib.pyplot as plt\n",
    "import seaborn as sns\n",
    "import itertools\n",
    "import collections\n",
    "from numpy import mean   \n",
    "\n",
    "import nltk\n",
    "from nltk.corpus import stopwords\n",
    "from nltk import bigrams\n",
    "from textblob import TextBlob"
   ]
  },
  {
   "cell_type": "markdown",
   "metadata": {},
   "source": [
    "### Dictionaries and Dict Methods"
   ]
  },
  {
   "cell_type": "markdown",
   "metadata": {},
   "source": [
    "The hotel data we want to analyze is contained in the (json) file `hotel_reviews.json`. The data includes some information about the hotel, and a number of hotel reviews made by people who (we assume) stayed there. When we read the data into Python we will end up with a \"nested\" dictionary, i.e. a dictionary some of whose values are also (lists of) dictionaries. Before we examine the structure of this nested dictionary we need to talk a bit about dictionaries in general."
   ]
  },
  {
   "cell_type": "markdown",
   "metadata": {},
   "source": [
    "Dictionaries in Python are data structures that store key/value pairs. The keys have to be of an \"immutable\" type (such as numbers or strings) but the values can be various kinds of things, including lists, arrays, and other dictionaries. The keys need also to be unique: there can't be duplicates. Let us look at some examples."
   ]
  },
  {
   "cell_type": "code",
   "execution_count": 5,
   "metadata": {},
   "outputs": [
    {
     "data": {
      "text/plain": [
       "{1: 'one', 'two': 2, (1, 2): 'ordered pair'}"
      ]
     },
     "execution_count": 5,
     "metadata": {},
     "output_type": "execute_result"
    }
   ],
   "source": [
    "# A dictionary with different types of keys: 1, \"two\" and (1,2). \n",
    "# Here (1,2) is an example of a tuple.\n",
    "mixed_keys_dict = {1:\"one\", \"two\":2, (1,2):\"ordered pair\" }\n",
    "mixed_keys_dict"
   ]
  },
  {
   "cell_type": "code",
   "execution_count": 6,
   "metadata": {},
   "outputs": [
    {
     "data": {
      "text/plain": [
       "{'name': 'John Doe', 'age': 32, 'sex': 'M'}"
      ]
     },
     "execution_count": 6,
     "metadata": {},
     "output_type": "execute_result"
    }
   ],
   "source": [
    "#  Let us define a simple dictionary with String keys: \"name\", \"age\" and \"sex\":\n",
    "cust_dict = {\"name\":\"John Doe\",\"age\": 32, \"sex\": \"M\"}\n",
    "cust_dict"
   ]
  },
  {
   "cell_type": "markdown",
   "metadata": {},
   "source": [
    "The list of keys in a dictionary can be obtained by using the dictionary's `keys` method. Also, we can obtain the value of any key in the dictionary by \"bracketing\" the key. We could then use assignment to change the value of the key if we wished. For more on this, see __[Dictionary View Objects](https://docs.python.org/3/library/stdtypes.html#dictionary-view-objects)__"
   ]
  },
  {
   "cell_type": "code",
   "execution_count": 7,
   "metadata": {},
   "outputs": [
    {
     "data": {
      "text/plain": [
       "dict_keys(['name', 'age', 'sex'])"
      ]
     },
     "execution_count": 7,
     "metadata": {},
     "output_type": "execute_result"
    }
   ],
   "source": [
    "# Get the list of keys--actually a dict_keys object (views) in Python 3.x.\n",
    "cust_dict.keys()"
   ]
  },
  {
   "cell_type": "code",
   "execution_count": 8,
   "metadata": {},
   "outputs": [
    {
     "data": {
      "text/plain": [
       "'John Doe'"
      ]
     },
     "execution_count": 8,
     "metadata": {},
     "output_type": "execute_result"
    }
   ],
   "source": [
    "# Get the value associated with the \"name\" key\n",
    "cust_dict[\"name\"]"
   ]
  },
  {
   "cell_type": "code",
   "execution_count": 9,
   "metadata": {},
   "outputs": [],
   "source": [
    "# Change the value of the \"name\" key\n",
    "cust_dict[\"name\"] = \"John Doe Jr.\""
   ]
  },
  {
   "cell_type": "code",
   "execution_count": 10,
   "metadata": {},
   "outputs": [
    {
     "data": {
      "text/plain": [
       "{'name': 'John Doe Jr.', 'age': 32, 'sex': 'M'}"
      ]
     },
     "execution_count": 10,
     "metadata": {},
     "output_type": "execute_result"
    }
   ],
   "source": [
    "cust_dict"
   ]
  },
  {
   "cell_type": "code",
   "execution_count": 11,
   "metadata": {},
   "outputs": [
    {
     "ename": "KeyError",
     "evalue": "'height'",
     "output_type": "error",
     "traceback": [
      "\u001b[0;31m---------------------------------------------------------------------------\u001b[0m",
      "\u001b[0;31mKeyError\u001b[0m                                  Traceback (most recent call last)",
      "\u001b[0;32m<ipython-input-11-05466e7d9c07>\u001b[0m in \u001b[0;36m<module>\u001b[0;34m\u001b[0m\n\u001b[1;32m      1\u001b[0m \u001b[0;31m# What happens when you try to access a key that is not there?\u001b[0m\u001b[0;34m\u001b[0m\u001b[0;34m\u001b[0m\u001b[0;34m\u001b[0m\u001b[0m\n\u001b[0;32m----> 2\u001b[0;31m \u001b[0mcust_dict\u001b[0m\u001b[0;34m[\u001b[0m\u001b[0;34m'height'\u001b[0m\u001b[0;34m]\u001b[0m\u001b[0;34m\u001b[0m\u001b[0;34m\u001b[0m\u001b[0m\n\u001b[0m",
      "\u001b[0;31mKeyError\u001b[0m: 'height'"
     ]
    }
   ],
   "source": [
    "# What happens when you try to access a key that is not there?\n",
    "cust_dict['height']"
   ]
  },
  {
   "cell_type": "code",
   "execution_count": 12,
   "metadata": {},
   "outputs": [
    {
     "data": {
      "text/plain": [
       "'missing'"
      ]
     },
     "execution_count": 12,
     "metadata": {},
     "output_type": "execute_result"
    }
   ],
   "source": [
    "# A better way...\n",
    "cust_dict.get(\"height\", \"missing\")"
   ]
  },
  {
   "cell_type": "code",
   "execution_count": 13,
   "metadata": {},
   "outputs": [
    {
     "data": {
      "text/plain": [
       "'John Doe Jr.'"
      ]
     },
     "execution_count": 13,
     "metadata": {},
     "output_type": "execute_result"
    }
   ],
   "source": [
    "# If the key is there it will return its value...\n",
    "cust_dict.get(\"name\", \"missing\")"
   ]
  },
  {
   "cell_type": "markdown",
   "metadata": {},
   "source": [
    "We can also use assignment to add new key/value pairs to the dictionary. "
   ]
  },
  {
   "cell_type": "code",
   "execution_count": 14,
   "metadata": {},
   "outputs": [
    {
     "data": {
      "text/plain": [
       "{'name': 'John Doe Jr.', 'age': 32, 'sex': 'M', 'height': 6.0, 'weight': 200.5}"
      ]
     },
     "execution_count": 14,
     "metadata": {},
     "output_type": "execute_result"
    }
   ],
   "source": [
    "cust_dict['height'] = 6.0\n",
    "cust_dict['weight'] = 200.5\n",
    "cust_dict"
   ]
  },
  {
   "cell_type": "markdown",
   "metadata": {},
   "source": [
    "Note that we need to add **key/value pairs** to an *existing* dictionary even if the dictionary is empty to begin with..."
   ]
  },
  {
   "cell_type": "code",
   "execution_count": 15,
   "metadata": {},
   "outputs": [
    {
     "data": {
      "text/plain": [
       "{'market_name': 'Foods R Us'}"
      ]
     },
     "execution_count": 15,
     "metadata": {},
     "output_type": "execute_result"
    }
   ],
   "source": [
    "market_dict = {}  # create an empty dictionary\n",
    "market_dict['market_name'] = 'Foods R Us'\n",
    "market_dict"
   ]
  },
  {
   "cell_type": "markdown",
   "metadata": {},
   "source": [
    "Another __[dictionary method](https://www.w3schools.com/python/python_ref_dictionary.asp)__ that is used to add/modify key/value pairs is the __[update](https://www.w3schools.com/python/ref_dictionary_update.asp)__ dictionary method."
   ]
  },
  {
   "cell_type": "code",
   "execution_count": 16,
   "metadata": {},
   "outputs": [
    {
     "data": {
      "text/plain": [
       "{'market_name': 'Foods R Us',\n",
       " 'market_address': '123 Main Street',\n",
       " 'market_phone': '(212)555-6789'}"
      ]
     },
     "execution_count": 16,
     "metadata": {},
     "output_type": "execute_result"
    }
   ],
   "source": [
    "market_dict.update({'market_address': '123 Main Street', 'market_phone': '(212)555-6789'})\n",
    "market_dict"
   ]
  },
  {
   "cell_type": "markdown",
   "metadata": {},
   "source": [
    "Let us add a new key/value pair to `cust_dict`, where the key is `\"location\"` and the value of that key is another dictionary (with keys: `\"city\"`, `\"state\"` and `\"zip code\"`)."
   ]
  },
  {
   "cell_type": "code",
   "execution_count": 17,
   "metadata": {},
   "outputs": [
    {
     "data": {
      "text/plain": [
       "{'name': 'John Doe Jr.',\n",
       " 'age': 32,\n",
       " 'sex': 'M',\n",
       " 'height': 6.0,\n",
       " 'weight': 200.5,\n",
       " 'location': {'city': 'Miami', 'state': 'FL', 'zip code': 33165}}"
      ]
     },
     "execution_count": 17,
     "metadata": {},
     "output_type": "execute_result"
    }
   ],
   "source": [
    "# Example of a nested dictionary...\n",
    "location_dict = {\"city\":\"Miami\",\"state\":\"FL\",\"zip code\":33165}\n",
    "cust_dict[\"location\"]=location_dict\n",
    "cust_dict"
   ]
  },
  {
   "cell_type": "markdown",
   "metadata": {},
   "source": [
    "Note that the value of the `\"location\"` key is itself a dictionary and we can access its value by \"bracketing\" again."
   ]
  },
  {
   "cell_type": "code",
   "execution_count": 18,
   "metadata": {},
   "outputs": [
    {
     "data": {
      "text/plain": [
       "{'city': 'Miami', 'state': 'FL', 'zip code': 33165}"
      ]
     },
     "execution_count": 18,
     "metadata": {},
     "output_type": "execute_result"
    }
   ],
   "source": [
    "cust_dict['location']"
   ]
  },
  {
   "cell_type": "code",
   "execution_count": 19,
   "metadata": {},
   "outputs": [
    {
     "data": {
      "text/plain": [
       "'Miami'"
      ]
     },
     "execution_count": 19,
     "metadata": {},
     "output_type": "execute_result"
    }
   ],
   "source": [
    "cust_dict['location']['city']"
   ]
  },
  {
   "cell_type": "code",
   "execution_count": 20,
   "metadata": {},
   "outputs": [
    {
     "data": {
      "text/plain": [
       "33165"
      ]
     },
     "execution_count": 20,
     "metadata": {},
     "output_type": "execute_result"
    }
   ],
   "source": [
    "cust_dict['location']['zip code']"
   ]
  },
  {
   "cell_type": "markdown",
   "metadata": {},
   "source": [
    "<div class=\"alert alert-block alert-success\"><b>Problem 1 (1 pt.)</b>: Add a key/value pair to the <b><i>market_dict</i></b> dictionary defined above. We want the key to be \"<b><i>fruits</i></b>\" and its corresponding value to be an \"inventory\" dictionary. This \"inventory\" dictionary should consist of fruit names as keys (i.e. <b><i>apples</i></b>, <b><i>oranges</i></b> and <b><i>pears</i></b>). The value of each key should be the number of such fruits being sold at the market. Assume that there are 123 apples, 98 oranges and 53 pears on sale. After adding this key/value pair to <b><i>market_dict</i></b>, display <b><i>market_dict[\"fruits\"]</i></b> to verify your work.</div>"
   ]
  },
  {
   "cell_type": "code",
   "execution_count": 21,
   "metadata": {},
   "outputs": [
    {
     "name": "stdout",
     "output_type": "stream",
     "text": [
      "dict_keys(['apples', 'oranges', 'pears'])\n"
     ]
    }
   ],
   "source": [
    "fruit_dict = {\"apples\":123,\"oranges\":98,\"pears\":53}\n",
    "# TODO: Add a key/value pair to the dictionary where the key is \"fruits\" and the value fruit_dict\n",
    "market_dict['fruits'] = fruit_dict\n",
    "\n",
    "# The following should display the three keys: 'apples', 'oranges' and 'pears'.\n",
    "print(market_dict['fruits'].keys())"
   ]
  },
  {
   "cell_type": "markdown",
   "metadata": {},
   "source": [
    "### Examining a JSON File"
   ]
  },
  {
   "cell_type": "markdown",
   "metadata": {},
   "source": [
    "Now it is time to turn our attention to our JSON file. We want to open and read `hotel_reviews.json` and save the data as a Python dictionary to the variable `hotel_data`. This is a two step process:\n",
    "\n",
    " 1. Use the open method to create a file object.\n",
    " 2. Pass the file object to `load` method in the `json` module. This method parses the contents of the file and returns a Python dictionary.\n",
    " \n",
    " But first we need to import the json module."
   ]
  },
  {
   "cell_type": "code",
   "execution_count": 22,
   "metadata": {},
   "outputs": [],
   "source": [
    "# set up notebook to display multiple outputs in one cell\n",
    "from IPython.core.interactiveshell import InteractiveShell\n",
    "InteractiveShell.ast_node_interactivity = \"all\""
   ]
  },
  {
   "cell_type": "code",
   "execution_count": 23,
   "metadata": {},
   "outputs": [],
   "source": [
    "import json\n",
    "#with open('../Data Files/hotel_reviews.json') as json_data:\n",
    "with open('hotel_reviews.json') as json_data:\n",
    "    hotel_data = json.load(json_data,) "
   ]
  },
  {
   "cell_type": "markdown",
   "metadata": {},
   "source": [
    "The structure of `hotel_data` is a bit complicated but it is divided into two parts: a **HotelInfo** \"section\" (i.e. the value of the `'HotelInfo'` key) and the **Reviews** \"section\" (the value of the `'Reviews'` key)."
   ]
  },
  {
   "cell_type": "code",
   "execution_count": 24,
   "metadata": {},
   "outputs": [
    {
     "data": {
      "text/plain": [
       "dict_keys(['Reviews', 'HotelInfo'])"
      ]
     },
     "execution_count": 24,
     "metadata": {},
     "output_type": "execute_result"
    }
   ],
   "source": [
    "hotel_data.keys()"
   ]
  },
  {
   "cell_type": "code",
   "execution_count": 25,
   "metadata": {},
   "outputs": [
    {
     "data": {
      "text/plain": [
       "{'Name': 'BEST WESTERN PLUS Pioneer Square Hotel',\n",
       " 'HotelURL': '/ShowUserReviews-g60878-d72572-Reviews-BEST_WESTERN_PLUS_Pioneer_Square_Hotel-Seattle_Washington.html',\n",
       " 'Price': '$117 - $189*',\n",
       " 'Address': '<address class=\"addressReset\"> <span rel=\"v:address\"> <span dir=\"ltr\"><span class=\"street-address\" property=\"v:street-address\">77 Yesler Way</span>, <span class=\"locality\"><span property=\"v:locality\">Seattle</span>, <span property=\"v:region\">WA</span> <span property=\"v:postal-code\">98104-2530</span></span> </span> </span> </address>',\n",
       " 'HotelID': '72572',\n",
       " 'ImgURL': 'http://media-cdn.tripadvisor.com/media/ProviderThumbnails/dirs/51/f5/51f5d5761c9d693626e59f8178be15442large.jpg'}"
      ]
     },
     "execution_count": 25,
     "metadata": {},
     "output_type": "execute_result"
    }
   ],
   "source": [
    "# The hotel information is stored in a dictionary.\n",
    "hotel_info = hotel_data['HotelInfo']\n",
    "hotel_info"
   ]
  },
  {
   "cell_type": "code",
   "execution_count": 26,
   "metadata": {},
   "outputs": [
    {
     "data": {
      "text/plain": [
       "[{'Ratings': {'Service': '4',\n",
       "   'Cleanliness': '5',\n",
       "   'Overall': '5.0',\n",
       "   'Value': '4',\n",
       "   'Sleep Quality': '4',\n",
       "   'Rooms': '5',\n",
       "   'Location': '5'},\n",
       "  'AuthorLocation': 'Boston',\n",
       "  'Title': '“Excellent Hotel & Location”',\n",
       "  'Author': 'gowharr32',\n",
       "  'ReviewID': 'UR126946257',\n",
       "  'Content': 'We enjoyed the Best Western Pioneer Square. My husband and I had a room with a king bed and it was clean, quiet, and attractive. Our sons were in a room with twin beds. Their room was in the corner on the main street and they said it was a little noisier and the neon light shone in. But later hotels on the trip made them appreciate this one more. We loved the old wood center staircase. Breakfast was included and everyone was happy with waffles, toast, cereal, and an egg meal. Location was great. We could walk to shops and restaurants as well as transportation. Pike Market was a reasonable walk. We enjoyed the nearby Gold Rush Museum. Very, very happy with our stay. Staff was helpful and knowledgeable.',\n",
       "  'Date': 'March 29, 2012'},\n",
       " {'Ratings': {'Overall': '5.0'},\n",
       "  'AuthorLocation': 'Madison, Wisconsin',\n",
       "  'Title': '“Great Visit to Seattle!”',\n",
       "  'Author': 'Nancy W',\n",
       "  'ReviewID': 'UR126795011',\n",
       "  'Content': 'Great visit to Seattle thanks to our stay at the Best Western Pioneer Square! The hotel was reasonably priced and close to everything we wanted to see - ferry ride, Underground Tour, Klondike Museum, short walk to Pike Market and other shopping. The staff was amazingly helpful and accommodating. Our room was very clean and had everything we needed. Breakfast was plentiful and very good. Before we booked, I read about some potential issues with the area. I can honestly say that the area was just fine! In fact, if you enjoy historic and quaint parts of town, this is definitely where you want to stay. I will be recommending this hotel to anyone who is headed to Seattle.',\n",
       "  'Date': 'March 27, 2012'}]"
      ]
     },
     "execution_count": 26,
     "metadata": {},
     "output_type": "execute_result"
    }
   ],
   "source": [
    "# The list of reviews with the data for each review also being stored in a dictionary.\n",
    "# Here are the first two reviews (dictionaries) in the list...\n",
    "hotel_data['Reviews'][:2]"
   ]
  },
  {
   "cell_type": "markdown",
   "metadata": {},
   "source": [
    "The hotel information is stored in a dictionary (with keys such as `'HotelID'` and `'Address'`), while the reviews are stored in a list--a list of dictionaries, with each dictionary containing information about a particular review. Let us get the list of reviews and save them to the `reviews` variable for further analysis."
   ]
  },
  {
   "cell_type": "code",
   "execution_count": 27,
   "metadata": {},
   "outputs": [
    {
     "data": {
      "text/plain": [
       "list"
      ]
     },
     "execution_count": 27,
     "metadata": {},
     "output_type": "execute_result"
    }
   ],
   "source": [
    "reviews = hotel_data['Reviews'] # list of reviews\n",
    "type(reviews) # check that it is a list"
   ]
  },
  {
   "cell_type": "code",
   "execution_count": 28,
   "metadata": {},
   "outputs": [
    {
     "name": "stdout",
     "output_type": "stream",
     "text": [
      "There are 233 reviews altogether.\n"
     ]
    }
   ],
   "source": [
    "print(\"There are\",len(reviews),\"reviews altogether.\")"
   ]
  },
  {
   "cell_type": "code",
   "execution_count": 29,
   "metadata": {},
   "outputs": [
    {
     "data": {
      "text/plain": [
       "{'Ratings': {'Service': '4',\n",
       "  'Cleanliness': '5',\n",
       "  'Overall': '5.0',\n",
       "  'Value': '4',\n",
       "  'Sleep Quality': '4',\n",
       "  'Rooms': '5',\n",
       "  'Location': '5'},\n",
       " 'AuthorLocation': 'Boston',\n",
       " 'Title': '“Excellent Hotel & Location”',\n",
       " 'Author': 'gowharr32',\n",
       " 'ReviewID': 'UR126946257',\n",
       " 'Content': 'We enjoyed the Best Western Pioneer Square. My husband and I had a room with a king bed and it was clean, quiet, and attractive. Our sons were in a room with twin beds. Their room was in the corner on the main street and they said it was a little noisier and the neon light shone in. But later hotels on the trip made them appreciate this one more. We loved the old wood center staircase. Breakfast was included and everyone was happy with waffles, toast, cereal, and an egg meal. Location was great. We could walk to shops and restaurants as well as transportation. Pike Market was a reasonable walk. We enjoyed the nearby Gold Rush Museum. Very, very happy with our stay. Staff was helpful and knowledgeable.',\n",
       " 'Date': 'March 29, 2012'}"
      ]
     },
     "execution_count": 29,
     "metadata": {},
     "output_type": "execute_result"
    }
   ],
   "source": [
    "# display first review\n",
    "first_review = reviews[0] \n",
    "first_review"
   ]
  },
  {
   "cell_type": "code",
   "execution_count": 30,
   "metadata": {},
   "outputs": [
    {
     "data": {
      "text/plain": [
       "{'Service': '4',\n",
       " 'Cleanliness': '5',\n",
       " 'Overall': '5.0',\n",
       " 'Value': '4',\n",
       " 'Sleep Quality': '4',\n",
       " 'Rooms': '5',\n",
       " 'Location': '5'}"
      ]
     },
     "execution_count": 30,
     "metadata": {},
     "output_type": "execute_result"
    }
   ],
   "source": [
    "# display first review's ratings only\n",
    "first_review_ratings = first_review['Ratings']\n",
    "first_review_ratings"
   ]
  },
  {
   "cell_type": "code",
   "execution_count": 31,
   "metadata": {},
   "outputs": [
    {
     "name": "stdout",
     "output_type": "stream",
     "text": [
      "The first review's author is gowharr32\n",
      "gowharr32's' overall rating for BEST WESTERN PLUS Pioneer Square Hotel was 5.0\n"
     ]
    }
   ],
   "source": [
    "print(\"The first review's author is\", first_review['Author'])\n",
    "print(f\"{first_review['Author']}'s' overall rating for {hotel_data['HotelInfo']['Name']} was {reviews[0]['Ratings']['Overall']}\")"
   ]
  },
  {
   "cell_type": "code",
   "execution_count": 32,
   "metadata": {},
   "outputs": [
    {
     "name": "stdout",
     "output_type": "stream",
     "text": [
      "gowharr32 made the following comments: \n",
      "\n",
      "We enjoyed the Best Western Pioneer Square. My husband and I had a room with a king bed and it was clean, quiet, and attractive. Our sons were in a room with twin beds. Their room was in the corner on the main street and they said it was a little noisier and the neon light shone in. But later hotels on the trip made them appreciate this one more. We loved the old wood center staircase. Breakfast was included and everyone was happy with waffles, toast, cereal, and an egg meal. Location was great. We could walk to shops and restaurants as well as transportation. Pike Market was a reasonable walk. We enjoyed the nearby Gold Rush Museum. Very, very happy with our stay. Staff was helpful and knowledgeable.\n"
     ]
    }
   ],
   "source": [
    "print(first_review['Author'],\"made the following comments:\",'\\n')\n",
    "print(first_review['Content'])"
   ]
  },
  {
   "cell_type": "markdown",
   "metadata": {},
   "source": [
    "### Creating a List"
   ]
  },
  {
   "cell_type": "markdown",
   "metadata": {},
   "source": [
    "We want to create a list with just the comments (strings). We do this by iterating over the list of reviews..."
   ]
  },
  {
   "cell_type": "code",
   "execution_count": 33,
   "metadata": {},
   "outputs": [],
   "source": [
    "comment_lst = []  # will contain the review strings\n",
    "for review in reviews:\n",
    "    comment_lst.append(review['Content'])"
   ]
  },
  {
   "cell_type": "code",
   "execution_count": 34,
   "metadata": {},
   "outputs": [
    {
     "data": {
      "text/plain": [
       "233"
      ]
     },
     "execution_count": 34,
     "metadata": {},
     "output_type": "execute_result"
    }
   ],
   "source": [
    "len(comment_lst) # contains 233 comments--one for each reviewer"
   ]
  },
  {
   "cell_type": "code",
   "execution_count": 35,
   "metadata": {},
   "outputs": [
    {
     "name": "stdout",
     "output_type": "stream",
     "text": [
      "The first comment in the comment list is: \n",
      "\n",
      "We enjoyed the Best Western Pioneer Square. My husband and I had a room with a king bed and it was clean, quiet, and attractive. Our sons were in a room with twin beds. Their room was in the corner on the main street and they said it was a little noisier and the neon light shone in. But later hotels on the trip made them appreciate this one more. We loved the old wood center staircase. Breakfast was included and everyone was happy with waffles, toast, cereal, and an egg meal. Location was great. We could walk to shops and restaurants as well as transportation. Pike Market was a reasonable walk. We enjoyed the nearby Gold Rush Museum. Very, very happy with our stay. Staff was helpful and knowledgeable.\n"
     ]
    }
   ],
   "source": [
    "first_comment=comment_lst[0]\n",
    "print(\"The first comment in the comment list is:\",'\\n')\n",
    "print(first_comment)"
   ]
  },
  {
   "cell_type": "markdown",
   "metadata": {},
   "source": [
    "### String Methods"
   ]
  },
  {
   "cell_type": "markdown",
   "metadata": {},
   "source": [
    "We we want to iterate over the list of comments and obtain information about the comments made by the reviewers. Since each of the comments is a String object, we are going to need some String methods to extract the information. See, for example, __[String Methods](https://www.w3schools.com/python/python_ref_string.asp)__. Let us illustrate some of the listed methods with the comments from the first reviewer."
   ]
  },
  {
   "cell_type": "code",
   "execution_count": 36,
   "metadata": {},
   "outputs": [
    {
     "data": {
      "text/plain": [
       "'we enjoyed the best western pioneer square. my husband and i had a room with a king bed and it was clean, quiet, and attractive. our sons were in a room with twin beds. their room was in the corner on the main street and they said it was a little noisier and the neon light shone in. but later hotels on the trip made them appreciate this one more. we loved the old wood center staircase. breakfast was included and everyone was happy with waffles, toast, cereal, and an egg meal. location was great. we could walk to shops and restaurants as well as transportation. pike market was a reasonable walk. we enjoyed the nearby gold rush museum. very, very happy with our stay. staff was helpful and knowledgeable.'"
      ]
     },
     "execution_count": 36,
     "metadata": {},
     "output_type": "execute_result"
    }
   ],
   "source": [
    "# Create a new string with all characters made lower case..\n",
    "first_comment.lower()"
   ]
  },
  {
   "cell_type": "code",
   "execution_count": 37,
   "metadata": {},
   "outputs": [
    {
     "data": {
      "text/plain": [
       "2"
      ]
     },
     "execution_count": 37,
     "metadata": {},
     "output_type": "execute_result"
    }
   ],
   "source": [
    "# Find how many times the string \"we\" is mentioned in the comments.\n",
    "first_comment.count(\"we\")"
   ]
  },
  {
   "cell_type": "code",
   "execution_count": 38,
   "metadata": {},
   "outputs": [
    {
     "data": {
      "text/plain": [
       "7"
      ]
     },
     "execution_count": 38,
     "metadata": {},
     "output_type": "execute_result"
    }
   ],
   "source": [
    "# If we wanted a \"case-insensitive\" search of instances of \"we\", we can do this...\n",
    "first_comment.lower().count(\"we\")  # include \"We\" as well"
   ]
  },
  {
   "cell_type": "markdown",
   "metadata": {},
   "source": [
    "<div class=\"alert alert-block alert-success\"><b>Problem 2 (2 pts.)</b>: Complete the loop below to display the number of times \"bathroom\" is contained within the text of the reviews for this hotel. Your output should look like this:</div>\n",
    "\n",
    "`The word 'bathroom' occurs 29 times in the reviews for this hotel.`"
   ]
  },
  {
   "cell_type": "code",
   "execution_count": 41,
   "metadata": {},
   "outputs": [
    {
     "name": "stdout",
     "output_type": "stream",
     "text": [
      "The word 'bathroom' occurs 29 times in the reviews for this hotel.\n"
     ]
    }
   ],
   "source": [
    "counter = 0\n",
    "for review in comment_lst:\n",
    "    # TODO: Insert code in the for loop body to determine the number of times \"bathroom\" appears \n",
    "    # in the current review and increment the counter variable accordingly.\n",
    "    counter += review.lower().count('bathroom')\n",
    "        \n",
    "# Print using an f-string\n",
    "print(f\"The word 'bathroom' occurs {counter} times in the reviews for this hotel.\") "
   ]
  },
  {
   "cell_type": "markdown",
   "metadata": {},
   "source": [
    "<div class=\"alert alert-block alert-success\"><b>Problem 3 (2 pts.)</b>: Print the number of \"wordy\" comments. A comment is considered \"wordy\" if it contains more than 100 words. For example, \"We stayed here and we liked it\" contains 7 words. Your output should look like this:</div>\n",
    "\n",
    "`There are 128 wordy comments.`"
   ]
  },
  {
   "cell_type": "code",
   "execution_count": 42,
   "metadata": {},
   "outputs": [
    {
     "name": "stdout",
     "output_type": "stream",
     "text": [
      "There are 128 wordy comments.\n"
     ]
    }
   ],
   "source": [
    "counter = 0\n",
    "for review in comment_lst:\n",
    "    # TODO: Insert code in the for loop body to get the number of \"wordy\" comments.\n",
    "    if len(review.split()) > 100:\n",
    "        counter += 1\n",
    "\n",
    "\n",
    "# Print the number of wordy comments.\n",
    "print(f'There are {counter} wordy comments.')"
   ]
  },
  {
   "cell_type": "markdown",
   "metadata": {},
   "source": [
    "We want to iterate over the `reviews` dictionary again this time saving with name of the reviewer together with the comments (in a dictionary)."
   ]
  },
  {
   "cell_type": "markdown",
   "metadata": {},
   "source": [
    "<div class=\"alert alert-block alert-success\"><b>Problem 4 (4 pts.)</b>: Create a list of dictionaries (<b><i>ar_dict</i></b>), where each dictionary has two keys: \"<b><i>Author</i></b>\" and \"<b><i>Comments</i></b>\", by iterating over the list of reviews and for each review constructing a dictionary containing the author's name and comments and then appending it to the list of dictionaries we are creating.</div>"
   ]
  },
  {
   "cell_type": "code",
   "execution_count": 43,
   "metadata": {},
   "outputs": [
    {
     "name": "stdout",
     "output_type": "stream",
     "text": [
      "There are 233 elements in the list.\n"
     ]
    }
   ],
   "source": [
    "ar_lst = []\n",
    "for review in reviews:\n",
    "    # TODO: (1) Create a dictionary, ar_dict, containing just two keys, “Author” and \"Comments”. \n",
    "    #           Their values should be obtained from the current review dictionary stored in the “review” variable.\n",
    "    #       (2) Append this newly constructed dictionary, ar_dict, to the ar_lst list.\n",
    "    ar_dict = {'Author': review['Author'], 'Comments': review['Content']}\n",
    "    ar_lst.append(ar_dict)\n",
    "\n",
    "\n",
    "\n",
    "# Let us check that we have 233 elements in the ar_lst list.\n",
    "print(f'There are {len(ar_lst)} elements in the list.')\n"
   ]
  },
  {
   "cell_type": "code",
   "execution_count": 44,
   "metadata": {},
   "outputs": [
    {
     "name": "stdout",
     "output_type": "stream",
     "text": [
      "gowharr32, said this \n",
      "\n",
      "We enjoyed the Best Western Pioneer Square. My husband and I had a room with a king bed and it was clean, quiet, and attractive. Our sons were in a room with twin beds. Their room was in the corner on the main street and they said it was a little noisier and the neon light shone in. But later hotels on the trip made them appreciate this one more. We loved the old wood center staircase. Breakfast was included and everyone was happy with waffles, toast, cereal, and an egg meal. Location was great. We could walk to shops and restaurants as well as transportation. Pike Market was a reasonable walk. We enjoyed the nearby Gold Rush Museum. Very, very happy with our stay. Staff was helpful and knowledgeable.\n"
     ]
    }
   ],
   "source": [
    "# Let us display the data from the first dictionary in the list.\n",
    "\n",
    "first_review = ar_lst[0]\n",
    "print(f\"{first_review['Author']}, said this\",'\\n')\n",
    "#print(first_review['Author'],\"said this:\",'\\n')\n",
    "print(first_review['Comments'])"
   ]
  },
  {
   "cell_type": "raw",
   "metadata": {},
   "source": [
    "gowharr32, said this \n",
    "\n",
    "We enjoyed the Best Western Pioneer Square. My husband and I had a room with a king bed and it was clean, quiet, and attractive. Our sons were in a room with twin beds. Their room was in the corner on the main street and they said it was a little noisier and the neon light shone in. But later hotels on the trip made them appreciate this one more. We loved the old wood center staircase. Breakfast was included and everyone was happy with waffles, toast, cereal, and an egg meal. Location was great. We could walk to shops and restaurants as well as transportation. Pike Market was a reasonable walk. We enjoyed the nearby Gold Rush Museum. Very, very happy with our stay. Staff was helpful and knowledgeable."
   ]
  },
  {
   "cell_type": "markdown",
   "metadata": {},
   "source": [
    "### The Counter Module"
   ]
  },
  {
   "cell_type": "markdown",
   "metadata": {},
   "source": [
    "In the next exercise we want to count the number of *unique* words in each of the comments. We learned previously how to split a string to create a list of words. We can write code from scratch to count the number of different words in the list. Alternatively, we can convert the list to another container data type that makes it easier to obtain this information. The `counter` module defines the `Counter` class. A `Counter` is basically a \"special type\" of dictionary. Given a list object `my_list` we can turn it into a counter object as follows: `Counter(my_list)`. This assumes we already imported the class from the collections module: `from collections import Counter`. See __[Counter Module](http://rahmonov.me/posts/python-collections-counter/)__. "
   ]
  },
  {
   "cell_type": "markdown",
   "metadata": {},
   "source": [
    "For example,\n",
    "\n",
    "```python\n",
    "from collections import Counter\n",
    "my_list = ['a', 'b', 'c', 'c', 'a', 'd', 'b', 'e', 'a']\n",
    "Counter(my_list)\n",
    "```\n",
    "creates the Counter object:\n",
    "\n",
    "```python\n",
    "Counter({'a': 3, 'b': 2, 'c': 2, 'd': 1, 'e': 1})\n",
    "```\n",
    "\n",
    "This tells you that the letter `a` appears `3` times in the list, etc."
   ]
  },
  {
   "cell_type": "markdown",
   "metadata": {},
   "source": [
    "We can get the keys and values just like with dictionaries:\n",
    "\n",
    "```python\n",
    "list(Counter(my_list).keys())\n",
    "```\n",
    "\n",
    "returns\n",
    "\n",
    "```python\n",
    "['a', 'b', 'c', 'd', 'e']\n",
    "```\n",
    "\n",
    "and\n",
    "\n",
    "```python\n",
    "list(Counter(my_list).values())\n",
    "```\n",
    "\n",
    "returns\n",
    "\n",
    "```python\n",
    "[3, 2, 2, 1, 1]\n",
    "```"
   ]
  },
  {
   "cell_type": "markdown",
   "metadata": {},
   "source": [
    "### Regular Expressions - The *re* Module"
   ]
  },
  {
   "cell_type": "markdown",
   "metadata": {},
   "source": [
    "Regular expressions or regexes are a specialized programming language embedded inside Python and made available through the `re` module. Using *re* module functions, you specify the rules for the set of possible strings that you want to match. You can follow this up with questions such as “Does this string match the pattern?”, or “Is there a match for the pattern anywhere in this string?”. You can also use regexes (or REs) to modify a string or to split it apart in various ways.\n",
    "\n",
    "Reference: __[Regex How-to](https://docs.python.org/3.7/howto/regex.html#regex-howto)__\n",
    "\n",
    "In our specific example, we want to get the list of words in each review. The first step towards this goal is to remove punctuation from the comment strings. There is top-level function `sub` in the `re` module that can be used to replace characters in a string by other characters (or remove them altogether)."
   ]
  },
  {
   "cell_type": "code",
   "execution_count": 45,
   "metadata": {},
   "outputs": [
    {
     "name": "stdout",
     "output_type": "stream",
     "text": [
      "Phone Num :  2004-959-559 \n",
      "Phone Num :  2004959559\n"
     ]
    }
   ],
   "source": [
    "import re\n",
    "\n",
    "phone = \"2004-959-559 # This is Phone Number\"\n",
    "\n",
    "# Delete Python-style comments\n",
    "num = re.sub(r'#.*$', \"\", phone)\n",
    "print(\"Phone Num : \", num)\n",
    "\n",
    "# Remove anything other than digits\n",
    "num = re.sub(r'\\D', \"\", phone)    \n",
    "print(\"Phone Num : \", num)"
   ]
  },
  {
   "cell_type": "markdown",
   "metadata": {},
   "source": [
    "For more examples on regular expressions, please visit: <br>__[Regular Expressions](https://www.tutorialspoint.com/python/python_reg_expressions.htm)__\n",
    "\n",
    "For a list of punctuation options in the string class, please visit:<br>\n",
    "__[String Punctuation](https://www.geeksforgeeks.org/string-punctuation-in-python/)__"
   ]
  },
  {
   "cell_type": "code",
   "execution_count": 46,
   "metadata": {},
   "outputs": [
    {
     "data": {
      "text/plain": [
       "'!\"#$%&\\'()*+,-./:;<=>?@[\\\\]^_`{|}~'"
      ]
     },
     "execution_count": 46,
     "metadata": {},
     "output_type": "execute_result"
    }
   ],
   "source": [
    "import string\n",
    "string.punctuation"
   ]
  },
  {
   "cell_type": "markdown",
   "metadata": {},
   "source": [
    "<div class=\"alert alert-block alert-success\"><b>Problem 5 (4 pts.)</b>: Iterate over <b><i>ar_list</i></b> and print the name of each reviewer (author) and the total number of *different*, i.e. *unique*, words in his comments. For example, \"We stayed here and we liked it\" contains 6 *unique* words since 'we' is repeated 2 times.\n",
    "\n",
    "As part of the process of counting *unique* words in each comment string you want to first remove all punctuation using `re.sub`. Save the resulting string to a list: `comments`. </b> \n",
    "    \n",
    "</div>"
   ]
  },
  {
   "cell_type": "code",
   "execution_count": 49,
   "metadata": {},
   "outputs": [
    {
     "name": "stdout",
     "output_type": "stream",
     "text": [
      "gowharr32 used 87 unique words.\n",
      "Nancy W used 84 unique words.\n",
      "Janet H used 44 unique words.\n",
      "TimothyFlorida used 68 unique words.\n",
      "KarenArmstrong_BC used 106 unique words.\n",
      "Shane33333 used 52 unique words.\n",
      "Bnkruzn used 15 unique words.\n",
      "Teacherbear used 54 unique words.\n",
      "CandyGnomad used 50 unique words.\n",
      "idahosandy used 16 unique words.\n",
      "CW2S used 145 unique words.\n",
      "jimmy62_11 used 78 unique words.\n",
      "BoulderIllini used 129 unique words.\n",
      "funlovingdad used 104 unique words.\n",
      "suntraveler222 used 205 unique words.\n",
      "rosariodurao used 39 unique words.\n",
      "Jody R used 87 unique words.\n",
      "Tasha M used 27 unique words.\n",
      "Roy C used 88 unique words.\n",
      "MikeGB2 used 107 unique words.\n",
      "Jennie S used 54 unique words.\n",
      "mcdonothing used 80 unique words.\n",
      "SWanjiru used 108 unique words.\n",
      "trish0 used 50 unique words.\n",
      "txlnstr used 25 unique words.\n",
      "mydogisfat used 46 unique words.\n",
      "DaddyHoward used 96 unique words.\n",
      "BCisBeautiful used 120 unique words.\n",
      "wildorchid416 used 174 unique words.\n",
      "JCPCG used 82 unique words.\n",
      "quilter1975 used 51 unique words.\n",
      "Zyg022 used 61 unique words.\n",
      "daglou used 30 unique words.\n",
      "seeknfind used 132 unique words.\n",
      "photodiver12 used 100 unique words.\n",
      "Mazneed used 134 unique words.\n",
      "Barbra_M used 23 unique words.\n",
      "bleepingfreezing used 50 unique words.\n",
      "deborjak used 44 unique words.\n",
      "karenj3 used 119 unique words.\n",
      "Blair used 64 unique words.\n",
      "Bob C used 65 unique words.\n",
      "digimom98 used 59 unique words.\n",
      "kimmelfox used 57 unique words.\n",
      "MooreaLover used 100 unique words.\n",
      "JnJRacing11 used 72 unique words.\n",
      "KayJay333 used 39 unique words.\n",
      "giggly1961 used 78 unique words.\n",
      "jennygirlmt used 117 unique words.\n",
      "basecampd used 54 unique words.\n",
      "drmo717 used 120 unique words.\n",
      "comingforthesun used 92 unique words.\n",
      "Kruzein used 69 unique words.\n",
      "osprey38 used 54 unique words.\n",
      "vancityrose used 78 unique words.\n",
      "dgeronimopo used 61 unique words.\n",
      "Silicon_Valley_Guy1 used 195 unique words.\n",
      "jduling used 100 unique words.\n",
      "Charlene351 used 52 unique words.\n",
      "cjwiggins used 80 unique words.\n",
      "AtravelerFriend used 78 unique words.\n",
      "14Daroad used 99 unique words.\n",
      "Josche82 used 41 unique words.\n",
      "PamV11 used 40 unique words.\n",
      "gomibagu used 41 unique words.\n",
      "anonymous1984 used 102 unique words.\n",
      "Bearable1 used 149 unique words.\n",
      "Espressowilltravel used 143 unique words.\n",
      "PegAI used 252 unique words.\n",
      "jwprice used 81 unique words.\n",
      "kleighb used 22 unique words.\n",
      "FiL6000 used 104 unique words.\n",
      "joshdouglas used 20 unique words.\n",
      "canislupus1 used 108 unique words.\n",
      "montanagirl034 used 111 unique words.\n",
      "Grover42 used 88 unique words.\n",
      "LV_Funn used 112 unique words.\n",
      "SnowDay10 used 77 unique words.\n",
      "justducky13 used 212 unique words.\n",
      "Barbie076 used 47 unique words.\n",
      "chocovino used 80 unique words.\n",
      "WHYNOT08260 used 54 unique words.\n",
      "sshjensen used 252 unique words.\n",
      "Jambc1234 used 89 unique words.\n",
      "daddyvet used 47 unique words.\n",
      "RiffwJoe used 99 unique words.\n",
      "theoneyfrosty used 34 unique words.\n",
      "Soj0urn3r used 172 unique words.\n",
      "maestro used 159 unique words.\n",
      "raingirl4 used 58 unique words.\n",
      "CommittedCruiser used 164 unique words.\n",
      "PhilattheBeach used 77 unique words.\n",
      "NanaDenise used 67 unique words.\n",
      "jodyrefs used 122 unique words.\n",
      "Stromtech used 106 unique words.\n",
      "HomebodyMI used 58 unique words.\n",
      "formularacer used 323 unique words.\n",
      "Mike1870 used 135 unique words.\n",
      "MJWCalifornia used 35 unique words.\n",
      "Pausan58 used 72 unique words.\n",
      "dstarr46 used 47 unique words.\n",
      "Suedd3 used 90 unique words.\n",
      "amy_chapelhill used 31 unique words.\n",
      "Darkmisto used 87 unique words.\n",
      "re_teachIdaho used 40 unique words.\n",
      "SafecoField used 51 unique words.\n",
      "bimps used 72 unique words.\n",
      "Flamingo099 used 70 unique words.\n",
      "Salty2010 used 248 unique words.\n",
      "HLAE used 27 unique words.\n",
      "spacestation used 69 unique words.\n",
      "m10036 used 105 unique words.\n",
      "tmeltz used 68 unique words.\n",
      "Joynt used 96 unique words.\n",
      "AlanP00le used 26 unique words.\n",
      "marygrin used 157 unique words.\n",
      "julia_robin used 63 unique words.\n",
      "SRA87 used 38 unique words.\n",
      "PaulDou used 129 unique words.\n",
      "kiwisteve57 used 79 unique words.\n",
      "HiznHerzReviewz used 81 unique words.\n",
      "DayTripperVicotriaBC used 65 unique words.\n",
      "Sally1956 used 83 unique words.\n",
      "KnitterwithSuitcase used 110 unique words.\n",
      "superstar_117 used 109 unique words.\n",
      "WyoMary used 54 unique words.\n",
      "SeattleJojo used 76 unique words.\n",
      "jp1martin used 45 unique words.\n",
      "maribethCalifornia used 92 unique words.\n",
      "smmcisaa used 139 unique words.\n",
      "ducksflynorth used 54 unique words.\n",
      "happytouristCapeCod used 31 unique words.\n",
      "hawkwatch used 77 unique words.\n",
      "FunTip used 28 unique words.\n",
      "calgarytraveller26 used 131 unique words.\n",
      "SantaPops used 86 unique words.\n",
      "luvamustang used 59 unique words.\n",
      "tripfoot used 48 unique words.\n",
      "linhsv used 76 unique words.\n",
      "Riflerangeblues used 74 unique words.\n",
      "travelersfromspokane used 17 unique words.\n",
      "TraveltoseetheWorld used 85 unique words.\n",
      "kbikeSeattle used 68 unique words.\n",
      "Quilters_Loft used 66 unique words.\n",
      "mparkerVancouver used 59 unique words.\n",
      "dcirico used 224 unique words.\n",
      "2GoinSomewhere used 97 unique words.\n",
      "indisguise used 44 unique words.\n",
      "SBCATraveler used 104 unique words.\n",
      "familyvet used 88 unique words.\n",
      "FrancisLHouston used 19 unique words.\n",
      "ArkansasTraveler68 used 211 unique words.\n",
      "SigSci used 50 unique words.\n",
      "Kiralou22 used 254 unique words.\n",
      "ptatoptb used 165 unique words.\n",
      "kmarso used 61 unique words.\n",
      "gobytrain99 used 162 unique words.\n",
      "Earthwoman used 142 unique words.\n",
      "DavidSBrussels used 134 unique words.\n",
      "elizabeth2278 used 163 unique words.\n",
      "terrymarie used 64 unique words.\n",
      "CricketSanDiego used 132 unique words.\n",
      "alln142 used 48 unique words.\n",
      "RamsteinRuss used 219 unique words.\n",
      "NewJerseyTrainlover used 88 unique words.\n",
      "mach2092 used 38 unique words.\n",
      "JohnandSian used 40 unique words.\n",
      "jgontheroad used 124 unique words.\n",
      "lolaTX used 111 unique words.\n",
      "dib730 used 57 unique words.\n",
      "dcooley3223 used 38 unique words.\n",
      "wendywhitehouse117 used 149 unique words.\n",
      "SeattleBluesWoman used 61 unique words.\n",
      "mustanghi used 47 unique words.\n",
      "Sandpiper52 used 132 unique words.\n",
      "odenski used 72 unique words.\n",
      "sea_shell_9 used 65 unique words.\n",
      "Jojabees used 163 unique words.\n",
      "2241342 used 28 unique words.\n",
      "aspyn2003 used 75 unique words.\n",
      "AndreaAJ used 83 unique words.\n",
      "ArtAccess used 152 unique words.\n",
      "pro-west used 17 unique words.\n",
      "sunshineinphoenix used 68 unique words.\n",
      "swnevada used 120 unique words.\n",
      "videospy used 115 unique words.\n",
      "RetiredBadger used 48 unique words.\n",
      "haroldz used 71 unique words.\n",
      "jhewei used 33 unique words.\n",
      "Indigloburn used 188 unique words.\n",
      "lisaleaky used 101 unique words.\n",
      "marly2005 used 119 unique words.\n",
      "everywhereman2 used 90 unique words.\n",
      "RW53 used 137 unique words.\n",
      "KGBT used 64 unique words.\n",
      "Marilyn1949 used 57 unique words.\n",
      "fallriverma used 15 unique words.\n",
      "simmotours used 108 unique words.\n",
      "SweetwaterMill used 66 unique words.\n",
      "AuntSusie006 used 56 unique words.\n",
      "lesnpat used 60 unique words.\n",
      "Traveler34NewJersey used 42 unique words.\n",
      "madmatriarch used 61 unique words.\n",
      "BonJean used 93 unique words.\n",
      "owt_u used 77 unique words.\n",
      "CraignRuth used 63 unique words.\n",
      "dw64 used 41 unique words.\n",
      "BSNRN used 49 unique words.\n",
      "mykidsmother4 used 35 unique words.\n",
      "USCGAnnapolis used 41 unique words.\n",
      "atgmdog used 52 unique words.\n",
      "KyGirl-Faye used 170 unique words.\n",
      "jltpeke used 95 unique words.\n",
      "over1861 used 54 unique words.\n",
      "pamnfam used 76 unique words.\n",
      "blueyedtraveler used 183 unique words.\n",
      "yondaime1845 used 32 unique words.\n",
      "Johnphil29 used 103 unique words.\n",
      "Quantum1 used 68 unique words.\n",
      "MoniqueMontreal used 180 unique words.\n",
      "patclatts used 89 unique words.\n",
      "eebm used 14 unique words.\n",
      "cjt9t9 used 37 unique words.\n",
      "BDM22 used 162 unique words.\n",
      "OberonSacramento used 82 unique words.\n",
      "seekwa used 103 unique words.\n",
      "Sailoranne79 used 89 unique words.\n",
      "Traveling4BiznFun used 62 unique words.\n",
      "JJTrouble used 157 unique words.\n",
      "Veek used 61 unique words.\n",
      "javainhand used 58 unique words.\n",
      "brenchley used 84 unique words.\n",
      "Janko used 83 unique words.\n"
     ]
    }
   ],
   "source": [
    "counter = 0\n",
    "from collections import Counter\n",
    "import re\n",
    "comments = []\n",
    "for review in ar_lst:\n",
    "    # TODO: (1) Get the number of words in the current review variable.\n",
    "    #       (2) Print the author's name and the number of (unique) words in his/her review  \n",
    "    word_lst = re.sub(r'[^\\w\\s]', \" \", review['Comments'])\n",
    "    comments.append(word_lst)\n",
    "    word_lst2 = word_lst.lower().split()\n",
    "    unique_words = set(word_lst2)\n",
    "    counter = len(Counter(word_lst2))\n",
    "    print(f'{review[\"Author\"]} used {counter} unique words.')\n",
    "    \n",
    "   \n",
    "\n",
    "    \n",
    "    \n",
    "    \n",
    "    \n",
    "    \n",
    "    \n",
    "    "
   ]
  },
  {
   "cell_type": "markdown",
   "metadata": {},
   "source": [
    "##### Sample Output"
   ]
  },
  {
   "cell_type": "raw",
   "metadata": {},
   "source": [
    "gowharr32 used 87 unique words.\n",
    "Nancy W used 84 unique words.\n",
    "Janet H used 44 unique words.\n",
    "TimothyFlorida used 68 unique words.\n",
    "KarenArmstrong_BC used 106 unique words.\n",
    "Shane33333 used 52 unique words.\n",
    "Bnkruzn used 15 unique words.\n",
    "Teacherbear used 54 unique words.\n",
    "CandyGnomad used 50 unique words.\n",
    "idahosandy used 16 unique words.\n",
    "..."
   ]
  },
  {
   "cell_type": "markdown",
   "metadata": {},
   "source": [
    "## Analyzing the Review text\n",
    "\n",
    "The next step in analyzing the data is to look for insights within the reviews given by the customers. We will start by looking at the most common words and then analyzing the sentiments of the reviews - whether they are positive or negative."
   ]
  },
  {
   "cell_type": "code",
   "execution_count": 50,
   "metadata": {},
   "outputs": [
    {
     "data": {
      "text/plain": [
       "list"
      ]
     },
     "execution_count": 50,
     "metadata": {},
     "output_type": "execute_result"
    },
    {
     "data": {
      "text/plain": [
       "233"
      ]
     },
     "execution_count": 50,
     "metadata": {},
     "output_type": "execute_result"
    },
    {
     "data": {
      "text/plain": [
       "['We enjoyed the Best Western Pioneer Square  My husband and I had a room with a king bed and it was clean  quiet  and attractive  Our sons were in a room with twin beds  Their room was in the corner on the main street and they said it was a little noisier and the neon light shone in  But later hotels on the trip made them appreciate this one more  We loved the old wood center staircase  Breakfast was included and everyone was happy with waffles  toast  cereal  and an egg meal  Location was great  We could walk to shops and restaurants as well as transportation  Pike Market was a reasonable walk  We enjoyed the nearby Gold Rush Museum  Very  very happy with our stay  Staff was helpful and knowledgeable ',\n",
       " 'Great visit to Seattle thanks to our stay at the Best Western Pioneer Square  The hotel was reasonably priced and close to everything we wanted to see   ferry ride  Underground Tour  Klondike Museum  short walk to Pike Market and other shopping  The staff was amazingly helpful and accommodating  Our room was very clean and had everything we needed  Breakfast was plentiful and very good  Before we booked  I read about some potential issues with the area  I can honestly say that the area was just fine  In fact  if you enjoy historic and quaint parts of town  this is definitely where you want to stay  I will be recommending this hotel to anyone who is headed to Seattle ',\n",
       " 'Great Location short walk from Amtrak station  Link or to a game  Price perfect for downtown Seattle  Historic Building  clean and comfortable  Breakfast was good  Staff friendly and helpful  The family is already thinking of the next stay  Super Cool Toy store across the street for all ages ']"
      ]
     },
     "execution_count": 50,
     "metadata": {},
     "output_type": "execute_result"
    }
   ],
   "source": [
    "# start with the list of Reviews which is in a free text format \n",
    "type(comments)\n",
    "len(comments) # Number of comments\n",
    "comments[:3] # display the first three comments in the list"
   ]
  },
  {
   "cell_type": "code",
   "execution_count": 51,
   "metadata": {},
   "outputs": [
    {
     "name": "stdout",
     "output_type": "stream",
     "text": [
      "['we', 'enjoyed', 'the', 'best', 'western', 'pioneer', 'square', 'my', 'husband', 'and']\n",
      "['great', 'visit', 'to', 'seattle', 'thanks', 'to', 'our', 'stay', 'at', 'the']\n",
      "['great', 'location', 'short', 'walk', 'from', 'amtrak', 'station', 'link', 'or', 'to']\n",
      "['accommodation', 'in', 'seattle', 'can', 'be', 'expensive', 'this', 'hotel', 'is', 'very']\n",
      "['very', 'cool', 'old', 'building', 'in', 'a', 'great', 'location', 'check', 'in']\n"
     ]
    }
   ],
   "source": [
    "# break out the Reviews into words\n",
    "my_words = [line.lower().split() for line in comments]\n",
    "\n",
    "# display the first 10 words in the first 5 comments\n",
    "for words in my_words[:5]:\n",
    "    print(words[:10])"
   ]
  },
  {
   "cell_type": "code",
   "execution_count": 52,
   "metadata": {},
   "outputs": [
    {
     "data": {
      "text/plain": [
       "list"
      ]
     },
     "execution_count": 52,
     "metadata": {},
     "output_type": "execute_result"
    },
    {
     "data": {
      "text/plain": [
       "['we',\n",
       " 'enjoyed',\n",
       " 'the',\n",
       " 'best',\n",
       " 'western',\n",
       " 'pioneer',\n",
       " 'square',\n",
       " 'my',\n",
       " 'husband',\n",
       " 'and',\n",
       " 'i',\n",
       " 'had',\n",
       " 'a',\n",
       " 'room',\n",
       " 'with',\n",
       " 'a',\n",
       " 'king',\n",
       " 'bed',\n",
       " 'and',\n",
       " 'it']"
      ]
     },
     "execution_count": 52,
     "metadata": {},
     "output_type": "execute_result"
    }
   ],
   "source": [
    "# prepare the words for analysis\n",
    "words_total = list(itertools.chain(*my_words))\n",
    "\n",
    "type(words_total)\n",
    "words_total[:20] # display the first 20 words in the comments\n"
   ]
  },
  {
   "cell_type": "markdown",
   "metadata": {},
   "source": [
    "### Most common words\n",
    "\n",
    "When you look at the most common words, you see words that are not unique to hotel reviews, but are common to any topic like <i><u> the, and, a, to.</i></u> In Natural Language Processing, these are called <b>stopwords</b>."
   ]
  },
  {
   "cell_type": "code",
   "execution_count": 53,
   "metadata": {},
   "outputs": [
    {
     "data": {
      "text/plain": [
       "[('the', 2108),\n",
       " ('and', 1194),\n",
       " ('a', 893),\n",
       " ('to', 864),\n",
       " ('was', 682),\n",
       " ('of', 505),\n",
       " ('hotel', 504),\n",
       " ('we', 497),\n",
       " ('is', 468),\n",
       " ('in', 462),\n",
       " ('i', 426),\n",
       " ('for', 359),\n",
       " ('it', 323),\n",
       " ('very', 280),\n",
       " ('this', 260),\n",
       " ('room', 256),\n",
       " ('with', 254),\n",
       " ('at', 229),\n",
       " ('were', 224),\n",
       " ('you', 208)]"
      ]
     },
     "execution_count": 53,
     "metadata": {},
     "output_type": "execute_result"
    }
   ],
   "source": [
    "# You can see the most common words are what would qualify as stopwords\n",
    "# These stopwords have no value in our analysis and only provide noise\n",
    "count_words = collections.Counter(words_total)\n",
    "count_words.most_common(20)"
   ]
  },
  {
   "cell_type": "markdown",
   "metadata": {},
   "source": [
    "### Stopwords\n",
    "\n",
    "The <b>nltk</b> package comes with default stopwords."
   ]
  },
  {
   "cell_type": "code",
   "execution_count": 54,
   "metadata": {},
   "outputs": [
    {
     "name": "stderr",
     "output_type": "stream",
     "text": [
      "[nltk_data] Downloading package stopwords to\n",
      "[nltk_data]     /Users/bingo41/nltk_data...\n",
      "[nltk_data]   Unzipping corpora/stopwords.zip.\n"
     ]
    },
    {
     "data": {
      "text/plain": [
       "True"
      ]
     },
     "execution_count": 54,
     "metadata": {},
     "output_type": "execute_result"
    },
    {
     "data": {
      "text/plain": [
       "179"
      ]
     },
     "execution_count": 54,
     "metadata": {},
     "output_type": "execute_result"
    },
    {
     "data": {
      "text/plain": [
       "{'a',\n",
       " 'about',\n",
       " 'above',\n",
       " 'after',\n",
       " 'again',\n",
       " 'against',\n",
       " 'ain',\n",
       " 'all',\n",
       " 'am',\n",
       " 'an',\n",
       " 'and',\n",
       " 'any',\n",
       " 'are',\n",
       " 'aren',\n",
       " \"aren't\",\n",
       " 'as',\n",
       " 'at',\n",
       " 'be',\n",
       " 'because',\n",
       " 'been',\n",
       " 'before',\n",
       " 'being',\n",
       " 'below',\n",
       " 'between',\n",
       " 'both',\n",
       " 'but',\n",
       " 'by',\n",
       " 'can',\n",
       " 'couldn',\n",
       " \"couldn't\",\n",
       " 'd',\n",
       " 'did',\n",
       " 'didn',\n",
       " \"didn't\",\n",
       " 'do',\n",
       " 'does',\n",
       " 'doesn',\n",
       " \"doesn't\",\n",
       " 'doing',\n",
       " 'don',\n",
       " \"don't\",\n",
       " 'down',\n",
       " 'during',\n",
       " 'each',\n",
       " 'few',\n",
       " 'for',\n",
       " 'from',\n",
       " 'further',\n",
       " 'had',\n",
       " 'hadn',\n",
       " \"hadn't\",\n",
       " 'has',\n",
       " 'hasn',\n",
       " \"hasn't\",\n",
       " 'have',\n",
       " 'haven',\n",
       " \"haven't\",\n",
       " 'having',\n",
       " 'he',\n",
       " 'her',\n",
       " 'here',\n",
       " 'hers',\n",
       " 'herself',\n",
       " 'him',\n",
       " 'himself',\n",
       " 'his',\n",
       " 'how',\n",
       " 'i',\n",
       " 'if',\n",
       " 'in',\n",
       " 'into',\n",
       " 'is',\n",
       " 'isn',\n",
       " \"isn't\",\n",
       " 'it',\n",
       " \"it's\",\n",
       " 'its',\n",
       " 'itself',\n",
       " 'just',\n",
       " 'll',\n",
       " 'm',\n",
       " 'ma',\n",
       " 'me',\n",
       " 'mightn',\n",
       " \"mightn't\",\n",
       " 'more',\n",
       " 'most',\n",
       " 'mustn',\n",
       " \"mustn't\",\n",
       " 'my',\n",
       " 'myself',\n",
       " 'needn',\n",
       " \"needn't\",\n",
       " 'no',\n",
       " 'nor',\n",
       " 'not',\n",
       " 'now',\n",
       " 'o',\n",
       " 'of',\n",
       " 'off',\n",
       " 'on',\n",
       " 'once',\n",
       " 'only',\n",
       " 'or',\n",
       " 'other',\n",
       " 'our',\n",
       " 'ours',\n",
       " 'ourselves',\n",
       " 'out',\n",
       " 'over',\n",
       " 'own',\n",
       " 're',\n",
       " 's',\n",
       " 'same',\n",
       " 'shan',\n",
       " \"shan't\",\n",
       " 'she',\n",
       " \"she's\",\n",
       " 'should',\n",
       " \"should've\",\n",
       " 'shouldn',\n",
       " \"shouldn't\",\n",
       " 'so',\n",
       " 'some',\n",
       " 'such',\n",
       " 't',\n",
       " 'than',\n",
       " 'that',\n",
       " \"that'll\",\n",
       " 'the',\n",
       " 'their',\n",
       " 'theirs',\n",
       " 'them',\n",
       " 'themselves',\n",
       " 'then',\n",
       " 'there',\n",
       " 'these',\n",
       " 'they',\n",
       " 'this',\n",
       " 'those',\n",
       " 'through',\n",
       " 'to',\n",
       " 'too',\n",
       " 'under',\n",
       " 'until',\n",
       " 'up',\n",
       " 've',\n",
       " 'very',\n",
       " 'was',\n",
       " 'wasn',\n",
       " \"wasn't\",\n",
       " 'we',\n",
       " 'were',\n",
       " 'weren',\n",
       " \"weren't\",\n",
       " 'what',\n",
       " 'when',\n",
       " 'where',\n",
       " 'which',\n",
       " 'while',\n",
       " 'who',\n",
       " 'whom',\n",
       " 'why',\n",
       " 'will',\n",
       " 'with',\n",
       " 'won',\n",
       " \"won't\",\n",
       " 'wouldn',\n",
       " \"wouldn't\",\n",
       " 'y',\n",
       " 'you',\n",
       " \"you'd\",\n",
       " \"you'll\",\n",
       " \"you're\",\n",
       " \"you've\",\n",
       " 'your',\n",
       " 'yours',\n",
       " 'yourself',\n",
       " 'yourselves'}"
      ]
     },
     "execution_count": 54,
     "metadata": {},
     "output_type": "execute_result"
    }
   ],
   "source": [
    "nltk.download('stopwords')\n",
    "stop_words = set(stopwords.words('english'))\n",
    "\n",
    "# comes with 179 stopwords\n",
    "len(stop_words)\n",
    "stop_words"
   ]
  },
  {
   "cell_type": "markdown",
   "metadata": {},
   "source": [
    "### Remove stopwords\n",
    "\n",
    "The code in the next cell will remove the stopwords from your list."
   ]
  },
  {
   "cell_type": "code",
   "execution_count": 56,
   "metadata": {},
   "outputs": [],
   "source": [
    "my_final = [[word for word in count_words if not word in stop_words]\n",
    "              for count_words in my_words]\n",
    "my_final"
   ]
  },
  {
   "cell_type": "code",
   "execution_count": 57,
   "metadata": {},
   "outputs": [
    {
     "data": {
      "text/plain": [
       "[('hotel', 504),\n",
       " ('room', 256),\n",
       " ('seattle', 203),\n",
       " ('staff', 173),\n",
       " ('great', 167),\n",
       " ('breakfast', 160),\n",
       " ('pioneer', 152),\n",
       " ('square', 149),\n",
       " ('stay', 140),\n",
       " ('location', 112),\n",
       " ('good', 105),\n",
       " ('clean', 104),\n",
       " ('best', 99),\n",
       " ('friendly', 94),\n",
       " ('would', 92),\n",
       " ('free', 91),\n",
       " ('walk', 90),\n",
       " ('helpful', 90),\n",
       " ('us', 89),\n",
       " ('one', 87)]"
      ]
     },
     "execution_count": 57,
     "metadata": {},
     "output_type": "execute_result"
    }
   ],
   "source": [
    "all_words = list(itertools.chain(*my_final))\n",
    "counts_all = collections.Counter(all_words)\n",
    "counts_all.most_common(20)"
   ]
  },
  {
   "cell_type": "markdown",
   "metadata": {},
   "source": [
    "Let's take a look of the results of removing the stopwords.  You can see (in the cell above) words common to our topic appearing at the top of the list. Does the word 'hotel' add anything to our analysis?  Probably not since we are dealing with hotel reviews.  Let's remove words that will not add to our analysis.  Below is sample code showing how to add to the out-of-the-box stopwords."
   ]
  },
  {
   "cell_type": "code",
   "execution_count": 58,
   "metadata": {},
   "outputs": [
    {
     "data": {
      "text/plain": [
       "179"
      ]
     },
     "execution_count": 58,
     "metadata": {},
     "output_type": "execute_result"
    },
    {
     "data": {
      "text/plain": [
       "set"
      ]
     },
     "execution_count": 58,
     "metadata": {},
     "output_type": "execute_result"
    },
    {
     "data": {
      "text/plain": [
       "181"
      ]
     },
     "execution_count": 58,
     "metadata": {},
     "output_type": "execute_result"
    }
   ],
   "source": [
    "len(stop_words)\n",
    "\n",
    "type(stop_words)\n",
    "\n",
    "# add in common words that you don't want in analysis\n",
    "my_stop = ['hotel','room']\n",
    "\n",
    "stop_words.update(my_stop)\n",
    "\n",
    "len(stop_words)"
   ]
  },
  {
   "cell_type": "markdown",
   "metadata": {},
   "source": [
    "<div class=\"alert alert-block alert-success\"><b>Problem 6 (6 pts.)</b>:  \n",
    "    \n",
    "Looking at the most common words, which words will not add to the analysis?<br>\n",
    "\n",
    "1. Add 'pioneer' and 'seattle' to the stopword list. Show the len of `stop_words` before and after you add the stopwords.\n",
    "2. Apply your new stopword list to the review list.\n",
    "3. Show the most common 20 words\n",
    "\n",
    "</div>"
   ]
  },
  {
   "cell_type": "code",
   "execution_count": 60,
   "metadata": {},
   "outputs": [
    {
     "data": {
      "text/plain": [
       "181"
      ]
     },
     "execution_count": 60,
     "metadata": {},
     "output_type": "execute_result"
    },
    {
     "data": {
      "text/plain": [
       "set"
      ]
     },
     "execution_count": 60,
     "metadata": {},
     "output_type": "execute_result"
    },
    {
     "data": {
      "text/plain": [
       "183"
      ]
     },
     "execution_count": 60,
     "metadata": {},
     "output_type": "execute_result"
    }
   ],
   "source": [
    "#TODO: Show the length of stop_words before adding 'pioneer' and 'seattle' to the stopword list\n",
    "len(stop_words) \n",
    "\n",
    "type(stop_words)\n",
    "\n",
    "#TODO: Add 'pioneer' and 'seattle' to the stopword list\n",
    "my_stop2 = ['pioneer', 'seattle']\n",
    "stop_words.update(my_stop2)\n",
    "\n",
    "#TODO: Show the length of 'stop_words' after the change\n",
    "len(stop_words) "
   ]
  },
  {
   "cell_type": "code",
   "execution_count": 61,
   "metadata": {},
   "outputs": [],
   "source": [
    "#TODO: Apply stopwords to the Review list\n",
    "my_final = [[word for word in count_words if not word in stop_words]\n",
    "              for count_words in my_words]"
   ]
  },
  {
   "cell_type": "code",
   "execution_count": 62,
   "metadata": {},
   "outputs": [
    {
     "data": {
      "text/plain": [
       "[('staff', 173),\n",
       " ('great', 167),\n",
       " ('breakfast', 160),\n",
       " ('square', 149),\n",
       " ('stay', 140),\n",
       " ('location', 112),\n",
       " ('good', 105),\n",
       " ('clean', 104),\n",
       " ('best', 99),\n",
       " ('friendly', 94),\n",
       " ('would', 92),\n",
       " ('free', 91),\n",
       " ('walk', 90),\n",
       " ('helpful', 90),\n",
       " ('us', 89),\n",
       " ('one', 87),\n",
       " ('night', 86),\n",
       " ('nice', 86),\n",
       " ('rooms', 85),\n",
       " ('area', 83)]"
      ]
     },
     "execution_count": 62,
     "metadata": {},
     "output_type": "execute_result"
    }
   ],
   "source": [
    "#TODO: Show the most common 20 words\n",
    "all_words = list(itertools.chain(*my_final))\n",
    "counts_all = collections.Counter(all_words)\n",
    "counts_all.most_common(20)"
   ]
  },
  {
   "cell_type": "markdown",
   "metadata": {},
   "source": [
    "We can create a horizontal bar graph displaying the counts for each of the common words to view the results for common words."
   ]
  },
  {
   "cell_type": "code",
   "execution_count": 63,
   "metadata": {},
   "outputs": [
    {
     "data": {
      "text/plain": [
       "<AxesSubplot:ylabel='words'>"
      ]
     },
     "execution_count": 63,
     "metadata": {},
     "output_type": "execute_result"
    },
    {
     "data": {
      "text/plain": [
       "Text(0.5, 1.0, 'Common Words Found in Comments (Without Stop Words)')"
      ]
     },
     "execution_count": 63,
     "metadata": {},
     "output_type": "execute_result"
    },
    {
     "data": {
      "image/png": "[encoded data removed]",
      "text/plain": [
       "<Figure size 576x576 with 1 Axes>"
      ]
     },
     "metadata": {
      "needs_background": "light"
     },
     "output_type": "display_data"
    }
   ],
   "source": [
    "clean_words = pd.DataFrame(counts_all.most_common(30),\n",
    "                             columns=['words', 'count'])\n",
    "#clean_words\n",
    "\n",
    "fig, ax = plt.subplots(figsize=(8, 8))\n",
    "\n",
    "# Plot horizontal bar graph\n",
    "clean_words.sort_values(by='count').plot.barh(x='words',\n",
    "                      y='count',\n",
    "                      ax=ax,\n",
    "                      color=\"orange\")\n",
    "\n",
    "ax.set_title(\"Common Words Found in Comments (Without Stop Words)\")\n",
    "\n",
    "plt.show()"
   ]
  },
  {
   "cell_type": "markdown",
   "metadata": {},
   "source": [
    "### Isolate reviews with specific words that you want to analyze\n",
    "\n",
    "The example below is selecting only reviews with the word <b>'staff</b>"
   ]
  },
  {
   "cell_type": "code",
   "execution_count": 64,
   "metadata": {},
   "outputs": [
    {
     "data": {
      "text/plain": [
       "145"
      ]
     },
     "execution_count": 64,
     "metadata": {},
     "output_type": "execute_result"
    },
    {
     "data": {
      "text/plain": [
       "['we enjoyed the best western pioneer square  my husband and i had a room with a king bed and it was clean  quiet  and attractive  our sons were in a room with twin beds  their room was in the corner on the main street and they said it was a little noisier and the neon light shone in  but later hotels on the trip made them appreciate this one more  we loved the old wood center staircase  breakfast was included and everyone was happy with waffles  toast  cereal  and an egg meal  location was great  we could walk to shops and restaurants as well as transportation  pike market was a reasonable walk  we enjoyed the nearby gold rush museum  very  very happy with our stay  staff was helpful and knowledgeable ',\n",
       " 'great visit to seattle thanks to our stay at the best western pioneer square  the hotel was reasonably priced and close to everything we wanted to see   ferry ride  underground tour  klondike museum  short walk to pike market and other shopping  the staff was amazingly helpful and accommodating  our room was very clean and had everything we needed  breakfast was plentiful and very good  before we booked  i read about some potential issues with the area  i can honestly say that the area was just fine  in fact  if you enjoy historic and quaint parts of town  this is definitely where you want to stay  i will be recommending this hotel to anyone who is headed to seattle ',\n",
       " 'great location short walk from amtrak station  link or to a game  price perfect for downtown seattle  historic building  clean and comfortable  breakfast was good  staff friendly and helpful  the family is already thinking of the next stay  super cool toy store across the street for all ages ',\n",
       " 'accommodation in seattle can be expensive  this hotel is very reasonably priced  located just off pioneer square  close to shops and restaurants and public transport  light rail   it appears to have recently been completely renovated in a period theme  rooms are small but well equipped comfortable and clean   reminds me a little of a european style hotel  staff are polite and helpful   in a genuine way  it is suitable for all types of stays business to a romantic getaway  next time your in seattle stay here ',\n",
       " 'said  this is a great little hotel located within walking distance of the amtrak station  the room we had was super  new furniture fairly large and a wonderful updated bathroom  the wifi was great and reliable  the breakfast is very good with waffles plus they had fruit etc  the staff could not have been more friendly or efficient  the property is good value and located near lots of pubs and restaurants',\n",
       " 'we went to seattle on a spur of the moment idea for super bowl  all the hotels a long the waterfront were averaging at  200  250 a night  we came a long the best western a 5 minute walk to the water at  100 for the evening which included free wifi and a great continental breakfast  the staff were friendly and knowledgeable  i would definitely recommend this hotel ',\n",
       " 'we stayed at the best western plus pioneer square hotel for 2 nights in mid sept  2011  if you are looking for a conveniently located downtown hotel for a reasonable price  this hotel is for you  it is located within a couple blocks of the bus tunnel which gets you downtown for free during the day and also provides a way to get to the airport  however  it is close enough to walk to the waterfront attractions  pike place market  the ballpark  the stadium  and the center city of seattle  we did not get a rental car because of the location and availability of public transportation  the hotel is in a historic building  the rooms are quite nice and are not  cookie cutter   there are not many amenities to the hotel itself  though there is a breakfast room and  free  continental breakfast was included in our room rate  there is a pub next door  same building  as well as several other shops  a good italian restaurant  al boccalino  is less than 100 feet away  and a variety of shops and restaurants or pubs are very close  the  seattle underground  tour is located nearby and a couple of ferries are within sight out the front door of the hotel  the staff was very friendly and helpful  they greeted us as we walked by the front desk every time  we would like to get back to seattle next year to see more sights and catch a ballgame  this hotel will be our first choice ',\n",
       " 'stayed two nights after amtraking from la  walked from railway station to hotel  an old building refitted to be good lodging place  refitting was installing bathroom in each room as an afterthought  remaining space is small for higher class hotel  simularly  the elevator column eats part of the original lobby space  the classy open stairway is still in service  also  historic district sign code constricts the outdoor sign of the hotel to omit the words best western  beyond her oddities the place was just fine  good beds  clean bathrooms  nice breakfast  wifi  internet computers  competent staff  reasonable price ',\n",
       " 'the best western pioneer square is a great hotel in an underrated part of downtown seattle  the historic hotel has retained its historic atmosphere without sacrificing quality  my son and i stayed for 5 days here in january  being off season  it may have problems  like noise  that we did not run into  the room was compact but very livable and very clean  our room faced an internal courtyard and was very quiet  especially for a downtown hotel  the free breakfast was exceptional in my opinion  plenty of options with a helpful staff dedicated to the breakfast room  the staff was very friendly and very helpful  the location is a little ways from the financial shopping part of downtown seattle  but a rather easy walk  pioneer square has a lot of ambiance  and the waterfront and stadiums are very close by  along with public transportation  amtrak  light rail to the airport   lots of good restaurants and pubs within a block or two  this was one of those rare hotel experiences where i have nothing but good things to say about this hotel  just keep in mind that it s almost 100 years old and not a 5  luxury hotel  and you won t be disappointed ',\n",
       " 'we loved the area where this old hotel is located  you have restaraunts and shops all around pioneer square  but they cater to the downtown area so they close early around 7pm  the room was large and the bed very comfortable and our room faced the street and it was very quiet  we enjoyed the small breakfast as we were looking for something to hold us over til we got to pike s market  the staff was helpful and even though the parking is off sight it was not that inconvenient  you are allowed to park in front for 15 minutes to get your bags up to your room  we ate at the italian eatery next door and found it romantic and good food but a little over priced and they will charge you for everything so be careful  you have to ask  the bread does not come with the meal    overall we loved the place and will come back again ',\n",
       " 'my husband and i had a trip to seattle with our daughter  who had a job interview  we wanted to her to get a good tour of the city and neighborhoods  to see if she might enjoy living there  so it was a business and sightseeing trip  the pioneer square best western plus was a great choice for us  located in the historic part of downtown  it was about 20 minutes from the airport  which was an easy drive  though the train from the airport is a great option if you don t need to drive   the hotel was close to a lot of attractions  the free city bus ran a block away from the door  straight up to pike s market  and there were lots of good restaurants near by  check out delicatos for great deli sandwiches  cherry street coffee shop for a cup of home roasted brew and breakfast  and elliott bay oyster house for great seafood  a view and great service    we were upgraded to a large room with 2 queen beds  desk  and small sofa as a best western club member  the bottled water and chocolate chip cookies were appreciated  the beds were comfy and linens were nice  the bathroom spotless  the room a great size  free wireless  and the continental breakfast was a great bonus  i got a great price online  though had some trouble booking through southwest  with our flight   so when i called the hotel directly  they honored the online price  the parking was  20 day  which is less than many area hotels and though it is up the street in a parking garage  you got a card that gave you access in and out  even when the garage was closed at night to the public  there is a small parking zone in front of the hotel for loading unloading luggage  there was a small amount of street noise  but it didn t affect our sleep  the staff was friendly and right on with their restaurant suggestions  we also did a walking tour of seattle  seattle by foot city tour  20 person 2 hr tour   a fun  informative and easy paced tour of the highlights of downtown seattle with a great guide  highly recommended  we thoroughly enjoyed our stay and hope to be back to seattle soon ',\n",
       " 'my husband and i stayed at this hotel  and we recommend it to anyone travelling to seattle for business or pleasure  the staff was very friendly and efficient  and extremely helpful  the hotel was clean and quiet  thought the air conditioning in the bedroom was a bit noisy   breakfast was great ',\n",
       " 'if i hadn t paid full price i would have thought i was in a hostel  it was terrible starting with fighting traffic until a space was open in front of the hotel to park to check in  the parking garage was a nightmare with small twisting levels and cars traveling in both directions down the ramp  the room was very small and didn t have a desk or a place to work other than the bed  very uncomfortable to use a laptop  breakfast was very bare bones with mediocre coffee and reconstituted juice  all night the people above me were moving around and making enough noise to wake me  the staff was wonderful and the room was very clean  the hotel staff were wonderful and very helpful but i would never stay here again  it was a hassle from the beginning ',\n",
       " 'the staff were very friendly and helpful  the room was nice and very clean  despite being old fashioned  the bathroom was huge  we got a very late check out at no extra cost ',\n",
       " 'having stayed at many bw hotels this was a nice  refreshing surprise  the booking  on the road  and the check in upon arrival was excellent and the service outstanding  having a large 3 4 ton van can have its challenges for parking  however the reception staff were very helpful in accomodating this requirement  even before i got there  the room was large with a very comfortable bed and decor  the location is great if you want to explore downtown seattle and its historic section  pikes market is a nice walk away and the  free  tourist bus route is close at hand  the rail transit to from seatac is not too far away and is an economical way to travel this leg  if required ',\n",
       " 'one of the hotel highlights of our west coast trip  we chose this hotel because of it s location close to the amtrak station and the positive reviews from trip advisor  we stayed for 2 days in late october and loved the ambiance of the architecture and cozy comfort  and quiet of our spotlessly clean room  we had no view  but who cares  we were more interested in viewing seattle by walking and pioneer square is perfect for it  this was also one of the most pleasant  and helpful front desk staffs we have ever dealt with  the breakfast was very good and they get extra stars for serving so early ',\n",
       " 'don t judge a book by its cover  when i drove up to this hotel at night  i had second thoughts about making that reservation  it looked like a seedy hotel in a forgotten part of town  but step inside  and you ll find a quaint  well decorated space with a friendly  attentive staff  our room was clean and bright with large windows and high ceilings  the location is south of the busy downtown  but there are plenty of great eateries and interesting shops  it s just a couple of blocks from the waterfront  pike place market is further away  but we walked there  the blocks are short  we parked our car in an off site parking garage nearby and walked everywhere  it rained non stop  but the hotel loaned us umbrellas  i thoroughly enjoyed my stay  this will be my seattle hotel from now on ',\n",
       " 'we were happy to find this hotel in historic pioneer square  great value and location  easy walking to restaurants on the sound  personable staff and very helpful ',\n",
       " 'i liked this hotel  the staff greeted us and were very helpful in finding a room suitable for my mobility needs  close to lift  big shower   we were upgraded to a room with a huge king size bed  lots of room and a large square tub  not too high  that had a seat built into it  nice   9  this place is clean and recently redone  the staircase is something they are proud of and the panelled conference room with 24 7 use of two pc s  i brought over some pho from a restaurant across the street and the young fellow at reception was pleased to bring me a large bowl from the hotel to eat my pho  nice touch  fellow  our room was on the inside of the hotel on the airshaft  but we heard almost nothing of the other guests ',\n",
       " 'i ve stayed in this quaint victorian style hotel with my wife on an overnight trip to seattle  staff was very friendly and accommodating from the get go  the hotel is situated just minutes from the piers  and in walking distance to the downtown core  no need to take a taxi  everything is really close  the room  although facing the water and a busy street  was quiet and clean  the bed was very comfortable and he bathroom had a great size the breakfast was very good and open early  a good start to the day with lots of different choices  if there s one negative at all  it s the availability of parking  the hotel doesn t seem to have a parking lot  the public parking is available but very expensive  we paid  36  for one night   although there might have been a surcharge because the sounders had a game that night   being located so close to the stadiums and downtown  this hotel will be my choice from now on for every trip to seattle in the future  to all staff  thank you very much for making us feel welcome  we ll be back ',\n",
       " 'we stayed at the best western pioneer square for two nights at the end of our seattle trip  we stayed with friends for the first half   it was great  the room was big enough for the two of us  the bed was incredibly comfortable  and the bathroom was clean and fairly spacious  as well as restocked each day  i liked the old charm of this historic building  the free breakfast was basic  but was plenty for us  cereal  fruit  and waffles  if you wanted   since we did the underground tour on our first day in seattle  we were acquainted with the pioneer square area  and getting around was not a problem  during our stay at the best western  we walked to columbia tower  seattle aquarium  and pike place  we managed to take the bus to the space needle without issue as well   the bus stop is a block away  we took a taxi back from the space needle   8 9 with tip   and noticed the fare to seatac was  32  instead  we took the light rail from the pioneer square station to seatac  which is three blocks  albeit uphill  from the hotel for a cheeeeeeeap  2 75  just be sure to allow 40 minutes or so for the ride if you choose the light rail  also  if you re looking for a great sandwich  my husband and i highly recommend delicatus  which is a block up from the hotel on 1st ave  i am still fantasizing about their pav diablo sandwich  yum  if you sleep late or want a second breakfast  planet java is one block over from the hotel on south washington   we had a decent brunch there  eggs  turkey sausage and waffles  nothing extraordinary  but tasty and filling  overall  i highly recommend this hotel  excellent value  pleasant staff  very clean  great location ',\n",
       " 'on a road trip from san diego to seattle  we found the best hotel last  stayed here for two nights and would recommend it to anyone  the hotel itself is lovely and historic but updated in all the right places  the location can t be beat  it is a block from the piers for dinner and ferry rides and at the edge of the historic district for walking around old seattle  the staff is very pleasant and uber helpful  beds were comfy  we had a king at the front of the hotel overlooking yesler  the room was small but the location and the price more than made up for it  walked everywhere from here and found a few pubs serving local brews  definitely worth it ',\n",
       " 'we stayed at the bw in pioneer sq for 2 nights  this hotel is old but very clean  all of the wood  and decor is warming   charming  the staff is genuine   friendly  the atmosphere is calm and allows you to go slow and enjoy  even the elevator is on it s own time line  the location is perfect to downtown with easy access to all areas of interest  the continental breakfast is excellent   really a good place to stay with good value ',\n",
       " 'stayed two night at the end of august 2011  it an easy walk to pikes place market  centurylink and safeco stadiums  and the warf  the breakfast was good  very friendly front desk staff ',\n",
       " 'we stayed for 2 nights at the great western pioneer square hotel  we enjoyed our stay and found the hotel very comfortable  convenient and the staff extremely helpful  i was originally worried about noise being downtown  however  room 419 on the front of the hotel  was an excellent choice and was quiet  extremely clean  well serviced and very comfortable  the continental breakfast included with the rate was good   cereals  boiled eggs  pastries  toast  jams  good coffee  juice and you could make a fresh waffle too   more than enough to get you going for a day  the underground tour runs from pioneer square a block away  it is a very interesting tour  lots of humour  worth doing  we liked being in the historic part of town   walked down first avenue to pike market and the main town shopping centre  the train light rail is only a few blocks walk from the hotel though  and you can catch this to the city or a suburban mall if you have time  we walked to the station with our luggage and caught the light rail to seatac airport and at  2 75 a person this was a great value deal in saving on cab fare  the hotel overall and the great helpful staff exceeded our expectations ',\n",
       " 'very friendly and helpful staff  good complimentary breakfast  rooms were decent sized and comfortable  it looked like it was remodeled within the last 5 years  it is only 1 5 blocks from the metro station  so it was convenient getting from and to sea tac airport  it is located in the historic section of seattle  the only negatives are that about 3 blocks away are the shelters and missions for the homeless  the walls of the hotel are a little thin  we didn t hear people talking  but did hear the plumbing whenever a nearby toilet was flushed or shower turned on  the hotel is about a block away from an elevated highway  so it was a little noisy during the weekday mornings  otherwise  the hotel was a great place to stay and a pretty good value  within walking distance to pike s market  seattle center  less than 2 mi   and chinatown ',\n",
       " 'super clean  large rooms beautiful stairways and halls   also very clean  front desk staff friendly and helpful  cleaning staff friendly and pleasant  welcome bag   cookies  water  and snacks   nice touch  breakfast   excellent  we enjoyed the location of the hotel  close to the market and lots of touristy attractions  loved all the patio pubs  cafes  and restaurants  i would definatley stay here again ',\n",
       " 'very nice helpful staff  welcome bag with cookies and bottled water was a nice surprise  easy walk from amtrack station  interesting  in a  homeless  way  locale  close to touristy shops and cafes with short walk to pike s market  breakfast offered danish  waffles  coffee  clean upgraded rooms  would stay again ',\n",
       " 'after reading this hotel s website as well as many of the online reviews  i found myself unable to find much information about its complementary breakfast  would it be a stale bagel and a cup of coffee         or a more complete breakfast with biscuits and gravy  scrambled eggs  etc            or what  my husband and i stayed here for one night before a trip on amtrak  and for those of you who would like to know what you ll get for breakfast  here s what we found  waffles with whipped cream  strawberries  and syrup  kelloggs boxed cereals  bananas  apples  oranges  packaged fruit cups  yogurt  orange juice  apple juice  bread toast bagels sweet rolls  muffins  hard boiled eggs  coffee  bigelow teas  and milk  our room was not large  but was clean and well appointed  the staff was friendly and helpful  we were very satisfied with our stay  and would not hesitate to stay here again if we wanted to be in this vicinity  we certainly felt that the breakfast was adequate for most folks ',\n",
       " 'we stayed at the pioneer square best western when we visited seattle to watch a baseball game  the location was perfect  about a 10 15 minute walk to ball park  lots of restaurants close by and a grocery store  the staff was very friendly and helpful and the breakfast was good  waffles  bagel  cereal  yogurt  juice  apples   some shady looking people around area but they left us alone  will definately go back next time i go to a ball game in seattle ',\n",
       " 'convenient location   can walk to mariner s game   but rather old and tired  over priced for what you get  breakfast was good  service staff was friendly  parking rather inconvenient as you had to drive a couple of blocks away to park and then the ticket wouldn t work and we had to haggle with the parking lot attendant  overall ok  but i won t be back  pioneer square can be rather sketchy  especially at night ',\n",
       " 'four nights at this hotel was an eye opener to how we would like to be treated at other facilities  every person at the front desk knew the places to visit  eat and those not necessary to see  the free breakfast was beyond abundant   the staff in the breakfast room was extremely attentive and friendly as were the persons at the front desk   our room  417  was clean   quiet  the beds were comfortable  although the pillows were not to our liking   we would highly recommend this hotel   hf',\n",
       " 'we flew into seattle to spend the night before our planned vacation to victoria  vancouver island and san francisco  this hotel is so convenient and the staff is very welcoming  from sea tac airport we took light rail to pioneer square which arrived 1 1 2 blocks from the hotel  we literally walked down the street from the exit  turned right on yessler way and the hotel was about 3 4 a block down on the left  our room was spacious  very  very clean and the breakfast the next morning was continental along with waffles  we walked to the space needle for dinner and rode public transportation back   really easy  the next morning  the victoria clipper  pier 65  to victoria was just 1 mile from the hotel  on returning to seattle from victoria  we stayed a 2nd time at the best western  great  clean accommodations again  and took amtrak the next morning  0 3 miles from the hotel  to san francisco  we would definitely go back to the best western on a return trip to seattle ',\n",
       " 'we recieved worse than poor service at another hotel  we were crushed  this was our honeymoon and we needed a room fast  the staff at best western pioneer square came to our rescue  kai showed us a room that fit us perfectly  we were able to walk in to a room that was far better than the  luxurious  hotel that thwarted us just the night before  not only did we secure a charming room  warm smiles and a caring staff  but they also gave us dinner reccomendations that was far better than the nearest pizza hut  best western  thank you  you have made us believers and truly know what customer service is ',\n",
       " 'great location if you are planning to go to a mariners or seahawks game  within walking distance  also the underground tour is close by  hotel staff was very friendly  beautiful character hotel  originally buildt in 1914  and has been beautifully restored ',\n",
       " 'we spent 3 days in seattle in this hotel  walking distance to the market  the ferries  and all the waterfront  very close to all transportation including to the airport  friendly staff  comfortable  affordable  and quiet  go to the italian restaurant two doors down  excellent food  reasonable  good atmosphere  we ate at the fishermans on the water  wonderful bread and spectacular view  take the ferry to bainbridge and the boat tour of the locks ',\n",
       " 'pioneer square hotel was in a good location  the staff were very friendly and the hotel was clean and comfortable  the hotel is close to restauants and pubs and it is a good walk to the main cbd public transport is available however it is an easy walk and an easy town to navigate  the room was very comfortable and homely it had all the necessities such as wifi and tv  the bed was very comfortable  the bathroom was fresh and clean and serviced daily  the building is an old building but very well preserved and presented  breakfast was available daily with a wide selection of food and beverage  shutttles can be organised by reception and this was very prompt and helpful ',\n",
       " 'stayed at this hotel this past weekend  great location  away from a lot of the downtown noise  yet close enough to walk to pike place market and safeco field for mariner s games  this hotel is a restored classic hotel  a nice change of pace from typical  cookie cutter  hotels  the staff was very friendly  happy to help with directions  suggestions  etc  complimentary breakfast great for families ',\n",
       " 'we just stayed 1 night  between train trips  great location   we actually walked   pulled our rolling luggage from the amtrak stn and saved on cab fare   maybe be a hassle with big  heavy bags though   the front desk staff gave us discount card for local irish pub when we asked for late night eating options  which we used and appreciated  the complimentary breakfast was a nice spread  the building had lots of character and historical photos and info which i found interesting  king bed room had high ceilings  felt spacious  free wifi ',\n",
       " 'the hotel is a nice historical hotel in pioneer square neighborhood of seattle  room size was large and bed was comfortable  continental breakfast had plenty of options and i loved the waffles  one minor qualm was the free wireless internet access available from the room was limited by number of connections  and 50  of the time i received  number of connections already reached  try again later   since i was on vacation and need to spend less time online anyway  this was not a big deal to me  if you need internet  keep this in mind  staff was friendly  i had read comments elsewhere about pioneer square being where the hoodlums hang out  between the hotel and the downtown attractions  i did not notice this  head toward the stadiums down occidental and you may encounter several  hotel was great for our vacation stay and the price was half of what i would have paid elsewhere downtown ',\n",
       " 'my son and i spent 3 nights here to see the sights and take in some mariner s games  we found the pioneer square area ideal  with a definite historical feel  it was an easy walk to the ballpark and the seattle center  the air museum and underground tour were both worth seeing  we used a city bus to get to the air museum and found the bus drivers very friendly and helpful  our room was spacious and clean  the staff was extremely friendly and helpful with all our questions  the free continental breakfast was much more than the usual rolls and cereal including a great staff to keep things replenished and clean  i highly recommend staying here ',\n",
       " 'this is a historical building located perfectly in pioneer square  the rooms are indeed small  however they are furnished accordingly and they exude lots of charm  our room was spiffy and clean  the tv is dated  however we didn t come here to watch television  so it was ok  we parkeed our full size pickup in the parkinf garage 2 blocks away  and this may sound inconvienent  it was not  the cost was 20 bucks a day  with in and out privelidges  we really liked the location  close to pikes and the waterfront  and of course all the history of the area in general  the under ground tour was close by  as was the public transportation system to get to the monorail and space needle  the staff here is more than friendly  everyone was anxious to help and give advice  we would stay here again without a doubt ',\n",
       " 'great value hotel with very friendly and helpful staff  also a great location  where i was only in seattle for the one night and didn t need to travel far to squeeze in so much  breakfast was good if you like waffles  not so great with for eggs  overall very happy ',\n",
       " 'good  good location  a block form the water and ferries  close to downtown within walking distance from restaurants  a 15 minute walk to pike place   helpful and friendly staff   large clean rooms   starbucks around the corner   free wifi bad  a few homeless around but fairly safe at night ',\n",
       " 'i had to stay in seattle for a length of time  my father had been murdered and we had to go to trial  i stayed at this hotel for at least a total of 8 weeks between nov 2010 through march of 2011  i can t say enough good things about this hotel and it s staff  some of the rooms are a little small but this is a historical building  they do have larger rooms and they are great  i just wish they had a hot tub so i could relax after a long day at court  i loved the fact that each day i got a hello when i came in and a good luck when i left  they always made me feel like family  i must admit i love the fact that i get a knock on my door to find out if i need extra towels at the end of the day  nice touch  the staff was always willing to help me  never did i ever get anything but outstanding customer service  i am the owner of a small business and if i had staff like this my business would go crazy  i know all of the names of the front desk and each of them deserves a raise bounes for all of the care and attention i and my family was given  a giant thank you to all of the staff form the front desk to the housekeeping  when we got the guilty verdict for the person that killed my father i could not wait to go back to the hotel and let them all know  it was like going home ',\n",
       " 'my husband and i stayed 3 nights and enjoyed meeting the staff  was offered free umbrellas each day and the breakfast was outstanding  definitely coming back ',\n",
       " 'i had a large  clean room located in the middle of the hotel  it overlooked a tiny courtyard so there was no view but at least there was no street noise whatsoever  the bed was comfortable and it was great to have free local calls and free internet  not wireless   the free continental breakfast was very nice and the front desk staff were very professional  i opted to stay here because of the above and their no pets and no smoking policies  the only negative point i have is that the only heat source in the room was a very noisy window mounted fan  i had to turn it off during the night as there is no way i would have been able to sleep with it on  do not be put off staying here because of the location  i felt safer in pioneer square than parts of downtown  2nd  3rd   4th ave street corners for example   i would not have a problem staying here again but think i ll opt for somewhere a bit more modern ',\n",
       " 'the staff was courteous  friendly and helpful  the room was clean  decorated in a style fitting with historic restoration but not too fussy  location was fabulous for us   it was sunny the 2 days we were in seattle and we walked everywhere we needed to go  pike s place market  ferry to bainbridge island  wonderful food just around the corner  we could have taken the bus in the downtown  free zone  to any of those places had it been raining  the light rail station was less than 2 blocks   so fare to the city from seatac was  2 50 per person each way  first night there was someone talking in the hall  near our room  as soon as we called the front desk someone came and asked him to move   which he did  weather was cold and halls were kept cool  but our room was toasty warm  we re looking forward to staying there again ',\n",
       " 'stayed here based on tripadvisor comments  which were mostly right on  the most significant for us were  1  location within walking distance of the amtrak king st  station  pioneer square  and the free bus line   99  which accesses everything from belltown to chinatown  ferry terminal and stadiums are also nearby  2  a room that was large  quiet  and very clean  we asked for and were given a quiet  interior room  many exterior rooms face the highway 99 viaduct or the street  so they are probably a bit noisy  3  staff that was helpful and friendly  with no exceptions  4  a fair price  in summary  a great place to enjoy the city without a car ',\n",
       " 'the best western pioneer square is a rather old building that shows some signs of its age on the exterior  and it has a couple of rather gloomy looking alleyways beside it  but don t let any of that put you off  the inside has been 100  rennovated  and is more than adequate for a hotel stay  the room rates are much lower than some of the larger hotels just a few blocks away  and the furnishings and staff were quite good  the room had fixtures that looked brand new  and the bathroom and furniture were very clean and comfortable  the staff was uniformly friendly and helpful with every request  the hotel may not have had a large number of guests during the time of my stay  but whether that was the reason or not  it was one of the quietest rooms ever experienced in a hotel  made for a very good night s sleep i would have no hesitation about staying there again  and the lower price is just an added incentive ',\n",
       " 'this was our first trip to seattle and we were amazed at how nice and attentive the staff was at this hotel  everyone was very friendly  we arrived early  so our room was not ready  but the staff checked us in and stored our bags for us  they gave us maps of seattle and showed us how to get to pike place  they invited us to have some complementary breakfast too  its a quick walk to pike place market from the hotel  after walking around  we headed back to the hotel with our room ready and were very happy with the size and cleanliness of the room  our flight was very early morning and the staff on duty even made the effort to get us some breakfast even though they were not open yet  they also arranged our transportation to the airport ',\n",
       " 'i got three nights of sound sleep in the comfortable bed   even better pillows provided to guests at the best western pioneer hotel  the decor in the oversized rooms was lovely    the included breakfast convenient  the hotel is located just a block from the underground tour   the wharf ferry boats  however  the best part of the visit was the helpful   friendly staff ',\n",
       " 'this is the first and only place we have ever stayed where the staff came door to door in the evening asking if we needed more clean fresh towels or blankets  the continental breakfast was outstanding  this is in an actual coffee shop  continuously staffed and on top of things like an empty coffee pot or need for additional cut strawberries  etc  would definitely stay again ',\n",
       " 'we came to seattle to see the picasso exhibit at the seattle art museum  while parking is not onsite  there is parking located in a parking garage about 2 blocks away at  20 per night  we did find that the hotel s location was such we were able to walk to the museum   about 3 or 4 blocks away  the hotel is also located within the  free bus  section of the city so that if we had wanted to go to any of the many attractions that downtown seattle has to offer  it would have been very easy for us to do so  the waterfront is also within walking distance   about a block away  the hotel is a small  boutique style hotel and is listed on the national register of historic places  the king bed was very comfortable and while our room was on the small side  our friends  room across the hall was much larger although their room had a very odd sized square tub that was quite awkward while the tub in our room was  normal  sized  diversity in rooms  i guess you could say  the hotel provides a complimentary breakfast with waffle machine  yogurt  various cereals and fruits  etc  the hotel does not have an in house fitness center but daily passes for the xplore fitness club are available at the front desk for a per day fee  located just a couple of blocks from the hotel  it comes complete with all the up to date weight  free motion equipment and over 20 different kinds of cardio machines  this wasn t an amenity that we took advantage of so can t speak to it  while there isn t an in house restaurant  there is a restaurant next door to the hotel which will provide limited room service should you wish it  we appreciated the free high speed internet as well as the free local phone calls  this was a hotel where we did not feel they were out to gouge us for every cent possible unlike other higher priced hotels we have stayed at  the staff of the hotel were all outstanding  they all were very friendly and helpful and went beyond our expectations  they all seemed very sincere in their desire to ensure any of our questions were more than adequately answered  i can t remember any recent stay in any hotel where i was so impressed with everyone on the staff of the hotel as i was with the staff of the pioneer square best western  the hotel was very quiet until about 5 am when the garbage trucks began their pick up  i was having trouble sleeping so found the noise disconcerting  however  our friends were sleeping soundly and the trucks did not disturb them  this  of course  is not an issue within the hotel s control  other than this  there did not seem to be any street noise during the night  we really enjoyed our stay and would recommend this hotel to anyone wanting good value in seattle ',\n",
       " 'this is a great hotel for the price   i only paied  90 a night   that was the aaa rate  there is a good cable selection  free wi fi or lobby computer use  breakfast is good  i think the bagles are local and fresh  we did have a small room  but it fit our needs  there is city noise  and lights  but  the blinds block out most of it  the hotel is located in an old building  so  you can hear others  noises  the showers in others rooms in the morning can be heard   if that bothers you   it woke me up  but       that s the only downside  i can look it over  high celings  cute rooms  good staff    printed me out bus times  with directions  you ll like it     ',\n",
       " 'if you want to explore seattle s pioneer square district  there s no better hotel to do it from than the best western pioneer square located at the heart of this neighborhood  it s right across the street from the seattle underground tour  recommended   and near restaurants and other amenities  this is a a small  old character hotel though  so you have to be prepared for what comes with that   a slow elevator  no fitness room or pool  no onsite dining other than the breakfast bar  minimal meeting or business facilities  this is not hotel to stay at on business or bring small children to  it reminds me of similar boutique hotels in san francisco s union square  but quieter at night and with fewer other attractions nearby  the front desk staff at the b w pioneer square are top notch  very friendly and accommodating  returning there after a day of knocking around  you really felt like you were coming home  the staff next door at the breakfast bar were less warm  but not obnoxiously so  the quest rooms are larger than you d think in such an old property  this generosity of proportion does not extend to the bathrooms however  which are quite dinky  the room decor is in definite need of updating   you have mismatched bed and window coverings  both of which appear to date from the 80 s  on top of old carpet  our room was quite long  with perhaps eight feet of empty floor between the bed and and armoire in which perched a 26  crt television  you practically needed opera glasses to watch it  updating the rooms and in room amenities would greatly improve the property  these are minor complaints  and on the whole we really enjoyed our stay ',\n",
       " 'we loved the old heritage style of the hotel  the rooms were big and comfortable  despite the pink bedspread and floral curtains  the front desk staff were knowledgeable and friendly  the only negative was the breakfast staff  the two women appeared bored and disinterested and acted as if we were an infringement on their day  we enjoyed our stay and would return again  we also dined at the italian restaurant right next door and enjoyed the atmosphere  service and authentic style food ',\n",
       " 'this hotel is not going to impress you if you only stay at 5 star hotels  but it is very clean  and the staff work hard to give you a great experience  the complimentary breakfast is quite good  and the location makes most of downtown very convenient for walking or riding public transit  if you absolutely must have wi fi in your room  you might want to consider elsewhere  i was never able to use the internet on any device from my room  and others i spoke to had the same experience  most public spots in the hotel had perfectly fine wi fi  and it is free  and reasonably fast ',\n",
       " 'we just stayed and enjoyed this  heritage  hotel  when we walked through the front door  we were very impressed with renovated decor that was kept for the period  even though the room was an economy   it didn t feel like it  very nicely decorated  very clean  the staff were very helpful  included continental breakfast  great location and we could walk everywhere   within 1 block to the waterfront  4 5 blocks to pikes place market and 5 6 blocks to safeco field   qwest field  nice job best western ',\n",
       " 'we booked on the internet for a queen small room and by morning we found the room was much too small   so i talked to the desk and they upgraded us to a wonderful larger room with a small iron patio   it was great  the building retains it s old character but provides modern comfort  the staff are fantastic  the location is a stones throw from the underground tour in pioneer square and an wasy walk to pikes market and other attractions  there are many great eating spots nearby including a very good italian restaurant right next door  the breakfast was very good with a great view of the street outside  overall it reminded me of my stay in the best western eiffel tower in paris  the parking is a block up the street and secure but be prepared to pay  20 per 24 hr period  i will stay here everytime i return to seattle ',\n",
       " 'needed a place to stay close to pioneer square for business  and this hotel was recommended  staff was knowledgeable  upbeat and accommodating  room was unusually shaped  but space was adequate  and i liked the quaint feeling  the breakfast included was usual for this chain  so the only complaint i had was that the room was somewhat crowded  but the staff attempted to make up for this by clearing tables quickly and helping where they could  would stay there again for business or leisure travel ',\n",
       " 'the best western at pioneer square was a real treat for us staying before and after an alaskan cruise  i made the reservation well in advance and paid for the room rentals in adnvance before cruise and after cruise stays  since the ship arrived back in seattle very early i contacted the hotel to see if they would store our luggage until our room became available  michael k  responded promptly and upon arrival back into seattle he made arrangements to have our luggage stored until our room was ready  the hotel itself is classic history  it is centrally located and found that check in was very smooth and the rooms very well maintained  large room with excellent bath  and just the right amount of furniture  we felt like we were back in the 50 or 60 s  the room was spotless and very clean  as well as the bath  we were placed on the 4th floor for the arrival stay and the 2nd floor for the return cruise stay  after checkin on the return stay with in 30 minutes  housekeeping was knocking at the door to make sure we were happy with the room and asked if we needed anything or more towels  that was ezekial  the rooms offer only a window air conditioner unit for cooling but it served the purpose well  the hotel offers a breakfast inclusive of the room rental fee and that was in a separate area of the hotel  there were lots of choices  just not hot meals  except the fresh waffles that the patrons can make themselves  there is no restaurant in the hotel  but many choices near by  we ate at an asian restaurant right next door to the hotel     julie s garden  small quaint  and excellent asian food at such a reasonable price  for a drink near the hotel just next door  try thepioneer square saloon  the hotel offers free internet service in their boardroom  their is a printer so you can print your airline boarding passes if you like  there is free bus service during the daytime hours which we used with helpful directions from michael the front desk clerk  we used the seattle light rail from the airport for just  2 50 each way per person saving lots of    vs taxi or shuttle service into seattle   2 50 each vs  taxi of nearly  45 000 each way  it was so easy to use  went to the american idol 2010 tour at key arena the night before the cruise using the free city bus serivce  then caught the monorail and light rail back to the hotel after the concert  the hotel is just 3 blocks from the light rail station  an easy walk  upon arrival back from the cruise we took a taxi from pier 66 to the hotel for a  6 00 for 2 people to transport our luggage  that afternoon we went to safeco field for a ml baseball game mariner s vs twins  and just walked down the street to the ballpark  both qwest field    seattle seahawks and safeco field    mariner s baseball are within walking distance  also the waterfront and seafood restaurants just blocks away for foot traffic  ate dinner the last night at the crabpot on the waterfront  alaskan way  which was in our opinion      very overrated  we enjoyed a free bus ride to pike street market saturday morning before the ballgame which is really something to see  room price was an average of  200 00 per night     a bit pricey for us  but well worth it in the end  considering we saved lots of     for inner city transportation and transportation via taxi  shuttle or cruise ship bus to the pier  yes  i would recommend the best western pionner square for either business of leisure visits  lots to do in seattle  and a very friendly city  only concern and negative was the massive amount of homeless and transient people in the city  feel this is a very bad image for the city of seattle  and city fathers should certainly try to clean this problem up  for an historic hotel  close to many venues  consider the best western pioneer square hotel  friendly staff that is very helpful  you will not be disappointed  if we ever do another cruise from seattle  we will consider staying here again  it was a real treat and a step back in time  since it is an historical hotel ',\n",
       " 'i recently stayed here for 1 night over the september long weekend  this is possibly the worst hotel i have ever stayed at  it is grungy  doesn t smell nice  in a terrible location   its next to a bad area  my gf was yelled at twice by bums on the street coming out of the hotel   the service staff  particularily the manager  is rude  and tried to overcharge us when we went to leave   we had booked for 3 nights then want to check out after one night given the conditions  our opinion   for less than what this place costs you can go down the street to near safeco field  hotel will be obvious  and stay in a beautiful new  modern hotel with a pool  hotub and beautiful rooms  also a safer location  we thought we were getting a good room as best western is typically a safe bet   we recently stayed in their new york location which was pretty good  even if they didn t overcharge me by  61  i would think it is only fair to let other travellers know about this place  avoid if possible  one positive   it has a waffle iron  which isnt terrible ',\n",
       " 'hotel is 100 years old  small  friendly  wonderful  great location with exceptionally nice staff   total atmosphere makes one feel at home  stayed four days and will always stay there when i return to seattle  again great location ',\n",
       " 'we were looking for a hotel that was close to the harbor and reasonable rates  pioneer square is one of the better hotels we have stayed in our travels  it is a small clean 100 year hotel  the room was comfortable and clean  bed was great  served a wonderful complimentary breakfast including boiled eggs  cereal  fruit and toast the staff went out of their way to make our stay memorable  it is across the street from the harbor with plenty of great places to eat  within easy walking of pike s market  we would definitely return to seattle and stay at the pioneer square ',\n",
       " 'refurbished 1914 pioneer hotel within walking distance of amtrak  safeco and quest fields  waterfront and the pioneer square area of downtown seattle  room decor was charming  suitable to the age of the hotel  we will stay here again  but we will spring the extra   for the  city view  room  staff was helpful and courteous  especially john and mike at the bell hop desk ',\n",
       " 'my husband and i arrived at the pioneer square hotel for our anniversary for 4 nights and 5 days  the staff provided us with a bottle of champagne and snacks  it was an incredibly nice welcome for us  the room was older and a a little outdated but was comfortable  oh   and the elevator is extremely slow  the hotel provides a free breakfast but after the first day of trying the continental breakfast we decided to skip it the rest of the trip  it was difficult navigating to get our breakfast in a little space with many people  the breakfast was standard continental fare  the hotel is about 7 blocks from pike place market and downtown  many of the streets are steep and uphill  if i chose to do it over  i would have chosen a hotel closer to the market  overall we had a good stay at the pioneer ',\n",
       " '2 blocks from the waterfront  3 blocks from light rail station to airport  5 min walk to amtrack station  8 blocks to pike market  this hotel was modest  but clean  front desk staff were friendly and helpful ',\n",
       " 'this is a centrally located  heritage hotel with lovely rooms and a deluxe continental breakfast  having traveled to seattle many times before  we thought it was time to stay in another area other than beside the pike place market  the bw in pioneer square was well appointed and full of heritage character and ambiance  unlike other bws  this hotel has style and grace with comfort to boot  we didn t need to pay for parking  for we were able to find free street parking after 6pm  and the parking is free on sundays  too  the location was great for taking in old seattle  the underground tours  chinatown  right beside safeco and qwest stadiums  the waterfront stores and restaurants  the staff were very kind and helpful ',\n",
       " 'we enjoy staying here and then going to a game at safeco field  we get a king room with a street view and we walk to the waterfront  shops along first ave  and to the field  handy  well stocked breakfast room  helpful and pleasant staff and the historic feel of the hotel make the stay special ',\n",
       " 'noise from police sirens  buses  load music and a crying baby in a nearby room  soft lumpy beds  our upgraded room with a view looked onto a street where homeless people slept  this hotel should not be in the best western group  the staff didnt care when i said that i had had a bad night  also parking is  20 and you have to walk a few blocks away  we did not feel safe late at night in this area coming back from the parking lot  i would not recommend this hotel ',\n",
       " 'we checked into best western  pioneer square  seattle late in the night  weary from a long day of travel and flights  the gentleman on the front desk greeted us with a smile  and informed us that he had upgraded us to one of the beautiful rooms on the 4th floor of the hotel  this was a very pleasant surprise  and very much appreciated  our room overlooked a quiet street  by way of 4 huge double windows along one wall  the furnishings were top quality  including a three seater plush velvet lounge plus a single period style tapestried chair  our bed was huge and comfortable  with bedside tables and lamps on either side  plenty of storage space could be found in the large wardrobe and chest of drawers  and a large screen tv was enclosed in a wall unit  the light fittings were of the federation era  in beautiful cream coloured leadlight  with not only wall fixtures but also free standing lamps at either end of the room  in an alcove at one end was a round table with two twisted timber chairs  and as well there was a desk by the wall for workspace  the bathroom was also federation style with beautiful fittings  a large mirror  excellent water pressure from the shower which was housed in a large bathtub  the airconditioning was perfect and could be manually controlled by the guests in the room  and the large windows also opened  if you prefer fresh air from the bay  the room itself had 10 foot ceilings and all trimmings were of top quality red timber  with carpet throughout and tiles in the bathroom  the housekeeping staff were so quiet and unobtrusive that we didn t know they were around unless we saw them in the corridors  we had a nice continental breakfast each morning  which included all kinds of small pastries  fresh fruit  cereals  toasts and various breads  waffles which can be made by guests in the waffle maker  plus a variety of coffee and large assortment of teas  the dining room staff kept the tables cleared  the coffee urns full  and were obliging to any guests requirements  our concierge organised taxies for us with ease  and was helpful with advice about the general area and any queries we had about restaurants or getting around seattle  i would recommend this hotel to anyone who wants trouble free accommodation within a nice environment where i believe the needs of even a demanding guest would be satisfied  we have travelled the world extensively and visited 15 different countries  some more than once  and best western  pioneer square  exceeded our expectations at a very reasonable price ',\n",
       " 'nice room  very clean  great location  the staff were very friendly and helpful  the hotel is nicely appointed  lots of character  good complimentary breakfast  will definitely stay there again ',\n",
       " 'staff was very helpful  engaging  rooms were spacious  clean  a little dated  then again it is located in pioneer square  so it fits  close to many downtown seattle attractions   underground tour  shopping  mall  mcdicks right around the corner for midnight snacks   that s key  can get a little seedy in pioneer square at night  and paying for parking is a pain  but the hotel is worth it  plus they re a lot cheaper than most hotels near by  so that makes up for it  definitely recommend ',\n",
       " 'we stayed three nights at the pioneer square hotel and were thoroughly satisfied  the staff is very friendly and a number of great eating and drinking establishments are within blocks  also  it was an easy hike to safeco field to take in a mariners baseball game  our room was small but cozy and we liked the original old woodwork and the view of old buildings on yesler way  no noise problems at night and the mattresses were very comfortable  amazing variety of art  history  and funkiness in this neighborhood ',\n",
       " 'what an amazing hotel  the staff is unbelievably friendly  extremely well educated  and are a pleasure to talk with  the location is in a prim spot for all sorts of activities day and night  the price is fairly high but for such a large vacation spot thats to be expected  the rooms are very well kept  and the internet is seamless  i m on it right now   the parking garage is a 2 block walk away but very secure and trust worthy  a none smoking establishment  very handy cap accessible  and quite the quaint little set up  don t be fooled by the exterior this is a site to be seen on the inside and every time i visit seattle i know exactly where i am staying from now on    rest well weary travelers this truly is the best western ',\n",
       " 'somewhat unpresposessing from the outside this hotel is a real gem   fantastic location   friendly staff   and a fine free breakfast  stay here   you won t be disappointed',\n",
       " 'my mother  my best friend and myself took a 4 day trip to seattle  we wanted to stay at a hotel within walking distance to everything we wanted to see  the best western pioneer hotel exceeded our expectations  we had a lovely room on the 2nd floor with two beds and a little juliette balcony  the front desk staff were accommodating and the bellmen were great on giving us direction  we were close to everything we wanted to see and were able to walk everywhere  their parking lot  we were told  was a block and a half away  well really it was just a 2 min walk and a lot closer than we imagined  the  blocks  were not  true  blocks  the garage was completely secure with a gate that closed at night  so only people with a pass could have access  we felt very comfortable leaving our car there  yes  the area had some homeless around  but we were never bothered by them and felt completely safe at night  there was even a starbucks 20 feet away for our morning latte  we went on the underground tour which was awesome and where we had to meet was only about 25 steps away  soooo close  lots of restaurants near by  we walked to the piers easily and went to pike place market  the market was about a 15 minute walk  no big deal  walking there we got to see all the old historic buildings along the way  the whole area is wonderfully historic including the pioneer square hotel  we will definately stay at the pioneer square hotel again if we go back to seattle ',\n",
       " 'i was in seattle for a conference and stayed at the crown plaza for 4 nights on my company s dime   i planned to stay a couple extra days but didn t want to pay the crowne plaza rate so i went with the pioneer square hotel   after searching the web for an inexpensive hotel and found the ps at about half the price  and what a pleasant surprise  i loved the history  the pictures of old seattle hanging in the lobby and the stairs   the crowne plaza had nothing on this place  and it was a block from the waterfront   shops  ferries  restaurants   and a short bus ride from seattle center  and they also had an abundant continental breakfast   make it yourself waffles  bagels  cold cereals  fresh fruit  yogurt  etc  etc  crowne plaza had squat   except if you wanted to pay for it  the room was clean and well kept  and with the recently stained woodwork  seemed as if it had all been remodeled recently  last  but not least  the staff were very friendly and accommodating  the only issue i had was with the recently stained woodwork furniture   which was beautiful   but the odor was pretty bad  luckily  the windows opened so i was able to air the place out ',\n",
       " 'this is our second stay and we really enjoyed it  the staff are very friendly and helpful  the hotel is old  everything in pioneer square is old  but has been beautifly remodeled without loosing any of it s charm  great free breakfast with lots of choices  very close to all the the best that seattle has to offer plus it s on the free bus route so if you can t  won t walk the few blocks to pike st market you can catch the bus this would be a great choice if you re attending a mariners or seahawks game it s just down the street to the stadiums we ll be back ',\n",
       " 'my husbad and i came for a quick trip midweek to visit family and were greeted with wonderful hopspitality and were upgraded to a beautiful suite overlooking the city street and skyscrapers above  we visited family before seeing our room then returned later  upon returning there was a bottle of bubbly chilling  we stepped out for a bite at little italy next door to the hotel and then retired in our beautiful suite  continental breakfast was good and the staff as usual was terrific  would recommend staying at this hotel if you are looking for something a little different and have time to enjoy the heart of seattle   cheers my friends  chris   cindy',\n",
       " 'we stayed at the pioneer square hotel jan 22nd using the entertainment discount   the experience far exceeded our expectations   when i called to book our two rooms  alex was very helpful  he told us how close the hotel was to the waterfront  the underground  shops  pike street market  we got a very good price for our two rooms  i was very suprised at how beautifully decorated the hotel and rooms were  very clean  provided delicious breakfast with waffles  the staff  including michael at the front desk  was exceptionally friendly and helpful  the only downside was the view from our window was another building  but the sheer curtains concealed the view while providing plenty of light into the rooms  i would highly recommend this hotel  ',\n",
       " 'i usually stay by the public market  but this was fantastic  the hotel is small  quaint  totally clean and quiet  with a little european like breakfast room  you can ask the concierge anything  it rained during my 2 day stay  not only did i receive an umbrella each day  but everything downtown was walkable or close to free ride  bus or train  restaurants and bars are close for evening meals and nightcaps  i felt safe on my own  i discovered the pioneer square underground transit tunnel stop 2 blocks up from the hotel  and the free bus from there to the international district  uwajimaya just across the street  one stop away  this is the same station for the train to the airport  about a half hour trip for  2 50  only detriment a long walk to the terminal at the end   the hotel is super for staff  service  quiet  convenience  and proximity to downtown and airport by foot or public transportation  i couldn t have asked for more ',\n",
       " 'seattle is one of my favorite cities and i had not visited in a long time  so my husband and i planned a long weekend there  the best western was a great choice for us to get reaquainted with this fabulous city  they hotel was perfect and the location too  the staff were helpful in every way  and the price was great too  leaving us extra money to splurge on other things ',\n",
       " 'the staff at this hotel went all out  from the day i checked in  i was treated like i was very special  i even participated in decorating the beautiful christmas tree in the lobby  drinking hot cocoa from starbucks  the concierges  all  were outstanding  everyone  without exception  was friendly and helpful  the hotel is located close to pike place and downtown  definitely walking distance and the weather was exceptional for this time of year and that helped a lot  the only drawback was the area is a little sketchy at night  so i d recommend being aware of your surroundings in the evening  the accommodations were pleasant  and the bed was very comfortable ',\n",
       " 'this hotel was located just right for our needs  the staff is very friendly and helpful  a number of tours are within walking distance and another will pick you up at the door  the complimentary breakfast will fill you up and get you ready to explore seattle  al boccalino  the italian restaurant next door  is terrific ',\n",
       " 'we just got back from a weekend stay at the best western pioneer square in seattle and the stay was beyond my expectations  during our last visit  we booked a hotel for a similar price and it was a complete dump so when i was able to book this hotel for a very reasonable rate with my caa discount  i wasn t expecting too much  the hotel was in a great location  lots of places to eat and drink in the area plus close to some great places like the crab pot on the waterfront  the staff that we encountered during our stay were all so nice and friendly  the room was large and very clean with a nice big bathroom and tub  it was quiet  we never heard a single noise while in our rooms  the breakfast that is included was ok  nothing spectacular but lots to choose from with waffles  bagels  cereal  eggs  etc  the hotel is also in the  ride free  zone so you can ride the bus for free  we also walked and took a cab to the main shopping area and it is super close  overall  nothing but good things to say and we will be back for sure  one thing  if you stay here and looking for something fun to do at night  the comedy underground is a very short 2 minute walk from the hotel and for  15  we got to see 2 comedians and it was a great time ',\n",
       " 'a well preserved old hotel in a perfect location for our visits to seattle  we like to walk in the city  so using the car park two blocks away is convenient  close to train station  safeco field  elliot bay book store  seattle art museum  pike mkt  maybe 12 blocks   and an easy city bus ride to husky stadium  the hotel is clean and comfortable  the staff is friendly and helpful ',\n",
       " 'this historic hotel is in excellent condition  with clean comfortable rooms  an extremely pleasant and helpful staff  and within walking distance of downtown and the mass transit system  the room was clean  the bed comfortable  and the shower hot  even though it was near the highway  the traffic sounds were buffered to a large degree and certainly did not detract from the comfort of the room  the best western pioneer will be my first choice now whenever i travel to our seattle office  i have already recommended it to my colleagues in our local office so other out of town staff have a new option to consider ',\n",
       " 'a very lovely  centrally located gem  that a lot of people might mistakenly overlook       with a very friendly staff  free fun  make it yourself  belgium breakfast waffles and the very best location location location  ',\n",
       " 'we booked the hotel room two days before our weekend to seattle and got two of the last rooms the weekend of a seattle seahawks game  this hotel is within walking distance to both qwest field and safeco field  it was the perfect location for out of town seahawk fans  while we didn t take advantage  it was also quite close to the seattle shopping district  my only complaint is that there was no hotel parking available by the time we checked in  so had to park on the street which was less than desirable  the hotel is quite old and has so much character  our room was one of the smallest in the hotel  but it was fine for a one night stay  the rooms were clean and the staff were very friendly and helpful  a free paper awaited us on our sunday morning  which we read enjoying the complimentary hotel breakfast  it is close to the interstate  but we did not notice much noise within the hotel  it is also within walking distance to the harbour and pike s place market  we headed to anthony s pier for dinner on saturday night  the food was fantastic and would definitely recommend going there for a meal  the view is spectacular  i would definitely stay here again for trips into seattle to watch sporting events  the proximity to qwest field cannot be beat ',\n",
       " 'i have only positive things to say about this hotel  our rooms were quite large  quiet  and clean  the hotel staff was friendly and very helpful  the included breakfast was an extended continental style with make your own waffles that were very good  the hotel is located in an 1890 s street front building that is on the national register    very cozy surroundings two blocks from the elliott bay waterfront  1 2 block from pioneer square  and a comfortable walk to the stadiums  the hotel is also within the free ride zone   we caught a free bus over to the westlake center  picked up the monorail  2 bucks  to the space needle  took about 15 minutes total ',\n",
       " 'we came on our arrival and departure back home to the southeast  found rooms in very excellent and clean condition  staff at highest availability and friendly to assist in any way  location is very convenient and easy access to city sites  many amenities including morning breakfast included and excellent help with assistance to travel  would definitely consider returning ',\n",
       " 'the hotel itself was a typical chain hotel  the room was comfortable  the staff was very helpful holding my luggage before and after my stay  i walked from the train station to the hotel  it was kind of a long walk but managable for anyone with resonable fitness and good wheeled luggage or a backpack  i d probably choose this hotel if i were to do it again  the location was good if you don t mind a little walking  the pier was about a five to ten minute walk and the market was about 10 minutes  a great bbq place is about a minute walk away in the square  i felt a little uncomforable walking alone at night as a single female but during the day it was fine  overall i was impressed with my experience at the hotel ',\n",
       " 'we stayed at the pioneer square hotel on a business trip to seattle and received excellent service  check in was smooth an professional  the staff courteous  and the guest rooms were nicely appointed  this hotel is a historic landmark in seattle s famous pioneer square  and they have managed to keep up to date with current hotel amenities while maintaining the flavor of the neighborhood  they offer a very nice complimentary breakfast  complimentary internet access  and have an agreement with a pay parking garage nearby that allows for in and out service with a scan card ',\n",
       " 'location was central to places i wanted to see  stayed 2 nights   room was small but comfortable and clean for the price charged  staff member mike was knowledgeable and helpful  complimentary breakfast offered was much better than other same category chain hotels  only downside to my stay was that the room window faced the side alley  with loud noises late at night that sounded like a garbage dumpster was being emptied ',\n",
       " 'this hotel was great  good aaa rate  friendly  accommodating staff  nice updated bathroom  free easy wifi  good section of town  don t be scared by the proximity to the freeway  my room was quiet  at least  it s a far walk to capitol hill  but close to the rest of downtown ',\n",
       " 'we were in seattle for a wedding and we arrived late morning  a room was not ready and we needed to freshen up and hang up our clothes that we were wearing for the wedding  the front desk staff let us use their facilities to freshen up and gave us wooden hangers for our clothes  right as we were giving our luggage to be stored  the front desk person told us she found a room that was ready for us  this historical building has a lot of charm to it  the rooms were clean  quaint and all the modern amenities  we were within walking distance to many of the sites  ferries  restaurants and night life  breakfast is included with the room  it is your typical continental breakfast  fruit  yogurt  breads  muffins  hard boil eggs  cereal  juices  coffee  waffles  whether we needed a taxi  directions or recommendations  the front desk staff was extremely friendly and helpful  we love seattle and we will be back  we will definitely stay at this hotel again too ',\n",
       " 'this hotel is a big disappointment  while the staff is nice  our room has an intense moldy smell  lots of traffic noise  and lots of street lighting slipping through the curtains at night  this part of seattle is very  seedy  as well  the smell of urine is very strong along practically every street and alley  the room is also small  i would recommend staying away from this place ',\n",
       " 'a great location in pioneer square with friendly  helpful staff  it is close to the amtrak station  which was nice for an early train to vancouver the free bus picked up right outside the front door of the hotel and we took it one direction to pike market and the other direction to the amtrak station  pike market was closer than we thought  so we walked back in the evening  the room was big and had a balcony  the kids  5   7  loved the continental breakfast with waffles ',\n",
       " 'my critera for finding a hotel in seattle was that it be near the amtrak station  as we were traveling by train  and this hotel was the closest one i found  i was more than pleasantly surprised when i checked in  not only is it a beautifully restored old hotel  but it is located within a 10 minute walk of the amtrak station in a nice historic area of the city  the room was one of the largest rooms i have ever been in in a hotel  and the king size bed was gigantic  the room was nicely furnished with high speed internet  a coffee pot  hair dryer  iron  and the usual assortment of shampoos  soaps  etc  i wish our stay could have been longer  because the hotel was located in a very interesting and fun area  as well as being convenient to the  free  public transportation to get to other parts of the city  the hotel staff was very pleasant  and upon our checkin  gave us a map of seattle which enabled us to easily find our way around  the free continental breakfast was very good and much appreciated  make your own waffles as well as cereal  muffins  bagels and toast toast were available  served in a cozy room next to the lobby  the lobby  altho small  was comfortable  because i was only there overnight  i didn t have time to check out what amenities the hotel offered  so i am not sure about many of those things  the photo and the appearance of the hotel doesn t do the hotel justice  you need to go into the lobby to see what a gem it is  i would definately recommend this hotel to a friend ',\n",
       " 'i stayed at this hotel for four nights while attending a large event at the convention center downtown  i found it to be beautifully furnished  clean  quiet  and everything i needed for a relaxing stay  the staff was very helpful with luggage  directions  recommendations  etc  even though we arrived on a very busy friday afternoon  it was easy to pull up directly in front of the hotel  unload the luggage  check in  and get the car to the parking garage located just a few blocks away  the staff made this all very smooth   on a side note  everything is within walking distance  a free bus ride  or a cab ride away  so i would leave the car at home and save the  20 a day in parking if you can   breakfast was not elaborate but good and plenty was available  fresh waffles  hard boiled eggs  bagels  muffins  cereal  fresh fruit  yogurt  etc   the hotel was a bit of a hike from the convention center  but i found the 30 minute walk each morning pleasant  there are also free buses a few blocks away if you don t like to walk that far  personally  i enjoyed being away from the activity of the large convention hotels at the end of the day and found it the perfect place to stay  when visiting seattle again  i will definitely stay at the best western pioneer square ',\n",
       " 'we booked this hotel at the last minute for our last two nights in seattle before returning to europe  we were very satisfied with the room and price  facilities were good  location excellent   at the end of downtown  handy for the docks  shops and pioneer square district  you can reach it from the harbour area  e g  cruise  victoria clipper ports  by the free downtown trolley  breakfast was decidedly basic  but at least included   and the first morning very overcrowded   i think a group had come just ahead of us  business centre allowed me to check internet as necessary without difficulty  room was on a corner and quite near the overhead freeway but you could also see the water with a little effort  noisy with the window open but it wasn t so hot that we needed to open it much  staff willing to be helpful but not obtrusive  main complaint was that when we wanted to go to the airport they tried very hard to persuade us to take a town car for  5 more than a taxi  but i really couldn t understand why i should want to ',\n",
       " 'the staff was great   very friendly and helpful  i did not expect such personalized service at this price  it had all the amenities and efficiency of a chain hotel with the decor and ambiance of a historic hotel  the location is perfect if you plan to take the ferries or water taxis frequently  it is also very close to excellent restaurants on the waterfront and in pioneer square  there is a great view of the city from the observation deck at smith tower  just barely up the street  pikes market is also a little over a half mile away as well  a pleasant walk  to get to seattle center  we walked about half a mile to the monorail station  then took the monorail  which was a fun experience  we also took a cab to seattle center one day when we were in more of a hurry  about  10   so  if you absolutely have to be right in the middle of the market shopping area or near the convention center  this might not be the place for you  but otherwise everything about this hotel was convenient for getting around seattle  we also liked the fact that it is relatively small  with only four stories  we almost never had to wait for the elevator  and could just easily take the stairs  which made getting in and out of the hotel a breeze  if you are very sensitive to any sounds while you are trying to sleep  you may not want a  city view  room  as the hotel is near the freeway and there is a  saloon  next door  so you will hear road noise and people sitting at the outside tables  but that is part of staying downtown  and it was really not an issue for us ',\n",
       " 'we had never been to seattle and were not sure where to stay in the city  we chose this place on a whim because of its historic downtown location and reasonable price  we definitely made the right choice  the hotel staff is excellent  all the concierges are extremely knowledgeable and friendly  the location is awesome  the underground tour  the pier 52 ferry to bainbridge island  eclectic shopping  sports stadiums  nature and historic walks  and lively bars and restaurants are literally only a block or two away  don t miss a tour of the  nearby  public library  it s amazing  also  a major bus stop is nearby   we didn t even need to rent a car  thus saving  20 00 per night for parking   as a bonus to history and ghost story lovers  the pioneer is the only hotel to be found here  the first area to be established by the pioneers of seattle  if you listen carefully  you will hear great stories about both these elements of old seattle  yes  there is quite a bit of panhandling in the area and it became tiresome  however  the good completely outweighed the bad ',\n",
       " 'my stay at this hotel was supposed to be for business but the hotel and the staff made this a most incredible stay  located close to many different ammenities and attractions i was overwhelmed with smalltown charm in a large city  i can not say enough about the staff at this hotel  they were very friendly and attentive to your every whim or need ',\n",
       " 'we chose the pioneer square for its price and proximity to amtrak  it s a  4 cab ride to the station  tip not included   we stayed two nights  one going and one coming  it would take a compelling reason now to choose another seattle hotel  we got in late the first night and the desk staff could not have been more welcoming and accommodating  we were quickly in our nicely appointed and furnished room and found the extra pillows we had asked for online  the pioneer is a historic building with the ambiance only found in earlier days  it has had a first class restoration  so you get the best of the old and of the new  the included breakfast is of first quality and generous quantity  a cheerful attendant provides any help you need and boiled eggs provide the protein often missing from such meals  finally  when i discovered i had left my shaving kit behind and called the hotel they simply checked my address and said they would send it along  at no charge  the best western pioneer square will be our hotel in seattle from now on ',\n",
       " 'we chose this hotel for a brief stay before a cruise and were pleased from the moment we walked in  check in was easy and the pleasant staff member gave us maps of the area along with the room keys  the hotel is a very short walk from the  seattle underground  tour and the klondike museum in an historic area with many shops and restaurants  i asked about purchasing wine and flowers to take on our cruise  and another map that detailed the immediate vicinity was given to me and the appropriate shops marked  the staff member suggested waiting to buy the flowers at the pike street market  which was an excellent suggestion  breakfast was pleasant and included the individual waffle maker  hard boiled eggs  cereal  pastries and more  checkout was easy and we were allowed toleave our luggage in their secure storage room while we toured the area after checkout  the bellman was extremely courteous and pleasant when retrieving our bags and hailing a cab  we plan to stay here again if we are in seattle ',\n",
       " 'we stayed in this hotel while waiting to board the cruise ship for alaska the next day  the hotel was in an ideal location as we were able to walk to many of the downtown attractions  the served a wonderful continental breakfast and when we were ready to leave the bell hop and hotel staff helped us get a taxi and get loaded up for our trip in no time  the rooms were also great and we had a beautiful view of downtown seattle ',\n",
       " 'check in was quick  we arrived at 10pm   the room was clean and with a good view  the staff  particularly katrina  were exceptional  all hotels could take a lesson from this hotel  i ve stayed at ritz carltons that weren t this nice ',\n",
       " 'i am new to washington state  friends and circumstances have taken me to seattle numerous times for overnite stay  i was lucky enough to find the best western pioneer square hotel for my travel arrangements  i have traveled all over the united states and europe  i have to say this is the most pleasant hotel and staff i have ever encountered  michael is always at the front desk to greet us  always smiling  professional and willing to listen to the guests needs and wants  very uncommon these days    the rooms are beautiful remodeled to the original era  the location is fantastic  walking to pikes market  the ferrys  surrounded by shops  restaurants and coffee houses  the lobby is very comfortable with great tourist information and a wonderful warming fire to sit and relax by  all of these wonderful attributes  make the best western at pioneer square in seattle wa   an absolute pleasure to continue my trips to seattle  if it was not for the staff  michael  in particular i may have stayed at an alternative hotel  in fact on my last trip  there was another hotel in the vacinity  same star value  cheaper in price and i would image other ways  i chose to stay at best western pioneer square without hesitation because of my wonderful experience  i would also like to mention katarina  who is always pleasant with a big smile  you are very fortunate to have michael  who obviously loves his job  torking for you  thank you again for a wonderful experience    wendy whitehouse',\n",
       " 'we have stayed at the hotel every spring on the week end closest to our anniversary  this year is our 25th  and our stay was wonderful  it seemed like all the staff knew  when we arrived  we found a lavish gift basket including champagne  waiting  the hotel is charming and the service is personal  we return because we always feel welcomed and it is never impersonal  the hotel is within easy walking distance of many activities and the pioneer square district is eclectic and fun ',\n",
       " 'the pioneer square hotel is a great place to stay while in seattle  it is close to the waterfront  safeco field  quest field  public transit and downtown  the staff is very professional and friendy  the rooms are very comfortable and clean and the breakfast is great too  i have stayed at the pioneer square hotel many times for the last twelve years and still enjoy every visit ',\n",
       " 'this was my third stay at this hotel and i wasn t disappointed  it is located in the historic heart of seattle and has several interesting places nearby  including pioneer square itself with its native american totem poles  the klondyke goldrush museum  several of seattle s famous coffee houses and what must be one of the usa s finest bookshops  there is also a reasonable selection of restaurants within walking distance  the area is not too noisy and felt perfectly safe  the hotel itself is an older building with an individual and historical character  i prefer this style of hotel to very large  more modern but often bland hotels  my room was spacious  spotlessly clean and everything worked  i had suffered a sporting injury immediately before my visit and needed some special assistance  the staff were friendly and extremely helpful  there is no restaurant but there is a breakfast buffet   fairly simple items  cereals  yoghurt  waffles  etc  sadly  the excellant selection of torrefazione coffee from the store that used to be nearby is no longer available  this was another enjoyable stay and i would certainly stay there again if i travel to seattle ',\n",
       " 'we were right where we wanted to be   walking distance to pike place  pioneer square  qwest wamu center  waterfront  our room was ready when we walked in the door early  i loved the old  vintage feeling  wide halls and stairs to our room  the bathroom was spotless  the shower was great  we parked the car and never touched it until we drove home  the neighborhood was quaint with marvelous shops and restaurants  i highly recommend it  it was relaxing not taking taxis and being able to run in and out of our hotel as we went from place to place  the staff was friendly  helpful and ready ',\n",
       " 'while only for one evening my stay was enjoyable  the hotel is easy walking distance from the amtrak station and located in one of the oldest and uique areas of seattle  the hotel is quaint  with the feeling of old world charm  when you enter you attention is drawn to the big easy chairs surrounding the fireplace and then to the beautiful old staircase with the wide  beautiflly carved wooden banister  this decor is carried throughout the hotel  including the rooms  the service was excellant and the staff knowledgeable about the area  i throughly enjoyed my stay ',\n",
       " 'i was surprised to see how highly this hotel was rated  given the price  but after staying there i agree with all the reviews   superb hotel for the money  the room was really spacious  decor was ok  depending on what you like  but i don t choose hotels for decor anyway  best part was the service   the staff were incredibly friendly and helpful  also the breakfast was wonderful  with most hotels this price  you just get a  continental  breakfast   this one had the works  breads  bagels  cereal  fruit  juices  coffee  and a waffle machine  great to be able to have a hearty breakfast before you re heading out for a day s sightseeing    my only criticism is that there may have been a lot of dust under the beds or somewhere  because my allergies were going nuts  but i can t say for sure that was the hotel s fault  it might have been something else triggering my allergies  also  the parking is a block away  pay parking  but you can pull up in front of the hotel to unload your luggage  check in etc  and then move the car  and the parking lot does have in out priveleges   you get a pass from the hotel and that way can come and go as you please  you pay for the pass as part of your hotel bill  so you don t have the hassle of paying separately   i searched online for hotels with parking included  and there didn t seem to be any in this price range  so just remember to add on  20 day for parking  which may seem a lot  but given how much street parking is  it s not too bad  oh and somewhere it said there was wifi  but it s not really wifi  it s an internet port in your room  i would definitely stay here again ',\n",
       " 'i have stayed in this beautiful hotel in pioneer square twice  it is one that i would go back to again and again  it is very conveniently located and the rooms are lovely   full of old charm and style  the only thing that can possibly outdo the charm and character of the hotel itself is the staff  both visits we were greeted with warm smiles and friendly hello s that continued from each staff member we encountered throughout  they really go above and beyond in the service department  i found the hotel to be quiet and comfortable with all the necessities one would require  i look forward to next year s visit ',\n",
       " 'the best western pioneer square was a wonderfully charming spot right in the middle of all the downtown seattle action  our room was very spacious  clean  had many large windows and even a balcony  the antique furnishings were very elegant and luxurious  making me feel like i wasn t staying in a hotel but more like a beautiful bed   breakfast  speaking of breakfast  we really enjoyed the free fresh waffles and assortment of food in the morning   it was a perfect start to our day out enjoying seattle  the staff were very friendly and always helped with any questions we had  all in all i was very impressed with this hidden gem   as we almost missed it   the front looks like a store front  ',\n",
       " 'i found the location perfect and central  i could easily catch local transportation for day trips  ferries  buslines  and train   i was an easy and comfortable walking distance from everything  i like the fact that the best western in pioneer square is also walking distance from great restaurants  italian  middle eastern  thai  sushi  pho   all within two blocks of the hotel  the decor is a comfortable elegance  the staff is very friendly and helpful  there is wireless service  a big plus because i m often having to finish business during my stay  downstairs there is also a computer so you can print out airline or train tickets  again   a nice extra  i very much appreciated the morning self serve breakfast of  make your own waffles   bagels  toast  cereal  fruit  and hard boiled eggs  it met all the needs of my somewhat picky eater kids  finally  i m an art lover  and i so appreciated being in the heart of the art district  there are over 30 galleries and artist studios nearby  we happened to stay on an evening that was a  first thursday art walk   the galleries stayed open until 8 pm and many of the artists were on hand to answer questions  the seattle art museum is just a short bus or cab ride away  i have recommended the best western pioneer square hotel to all my family and friends ',\n",
       " 'historic hotel  great location and the staff was amazing  my husband  daughter  who is 5  and i stayed at the bw pioneer square hotel last october for one night  2008   the staff was very friendly  our hotel room was clean and my we appreciated the free internet in our room  breakfast was perfect  the hotel has a complimentary deluxe breakfast  fruit  cereals  bagels and waffles   the rooms are quiet and the hotel is in a convenient location  we walked from the hotel and back to the space needle  fish market and pacific place mall  i would recommend this hotel for anyone traveling to seattle',\n",
       " 'my girlfriend and i spend two nights at the pioneer square best western in january while we were in town for the boat show  i have been staying at the hotel at least once a year since it was renovated in the early 90 s  a friend told me about its very competitive rates and close in location to the market downtown as well as to the stadiums and waterfront  psh is not the flashiest place in town  meal service is limited to a simple coffee pastry service  but it is almost always the best value in town  the rooms are as nice as you see in the best western urban niche  and the staff and service are exceptional  i like that it is only a short walk to the the waterfront and stadium district while only a short cab ride to the market and downtown  parking is limited and off site  but for the price savings it is never an issue to me  there is usually a lot going on in pioneer square and only on one mardi gras week have i ever found a little late night revelery to be noticed from my room  the best rooms are the ones with balcony s and i always stay in one of them ',\n",
       " 'not sure how hotels are rated but i ve stayed at ones in the 2 star rating that are much nicer than this one   place is clean  but the beds are the worst       bed are from a 1 start type hotel  nice pillows however      there are a large number of homeless panhandling in the area and you can t do the 1 5 block walk from parking without getting hit up   pretty rough neighborhood and seems to be getting worse   the bellman was awesome and the night cleck fun   however the day staff sucks    over charged us on one room and wounldn t honor price      also because of that we check out and went else where    they are still trying to charge me for 4 more nights that we aren t going to be there for    very bad customer service skills and also called best western to complain  seems all are independent   we ll see how honest they are',\n",
       " 'this was the second time i stayed in this hotel  and it was as friendly and comfortable as last time  the staff are all nice and helpful  not to mention the hotel  s location  strongly recommend to travellers who come to town for the first time ',\n",
       " 'my fiancee stayed in seattle for a romantic three day two night stay  we looked for a hotel that was close enough to walk to our favorite spots within the city and decided to stay at the best western pioneer square hotel  it is within walking distance from both the seattle aquarium  pike place market  and many great restaurants  upon first arriving i had trouble working the card key lock but the bell hop was very friendly and assisted us getting into our room to relax  he finished showing us our room and quietly left us to start our night  our wake up call came in on the dot which  for my hotel experience was rare but preferred  the continental breakfast was served pipping hot  fresh belgian waffles with coffee for my fiancee and myself  they had fresh fruit  yogurt and much more which we couldn t stuff ourselves with  however  i did sneak some fruit for later in the day  the staff was very polite and the food was never empty nor cold  after a day out we returned to a well turned down room  the front desk was more then happy to sneak a bottle of champagne into our room while we were out so i could surprise my fiancee per my request by phone  we relaxed in our room the remainder of the night  our room had a balcony overseeing the front entrance which made it nice to watch the foot traffic of the city  after spending weekends at other hotels in the past  their prices never were justified with what we received  all of the amenities at pioneer square hotel were more then adequate and my fiancee will most definitely return  the room was superb  the staff was more then helpful  friend and went well above and beyond  if you plan on going to seattle anytime soon  i would highly recommend sneaking into this wonderful hotel and staying awhile  you won t regret it ',\n",
       " 'i had a really positive experience at the best western pioneer square hotel  the bed was very comfortable  which is a big plus for me  it was also very quiet  perhaps it was the time of year  i don t know  the staff was very friendly and accomodating  the concierge greg is great  very helpful and friendly  he greeted us with a smile and sent us off with one  i also really liked their extensive continental breakfast   the belgian waffles were a plus  it saved us money on eating breakfast out  i really appreciate that  one final note  pioneer square is one of the nicest parts of seattle  it s unique  with streets lined with independent stores  and is filled with beautiful architecture  this hotel is right where you want to be  right in pioneer square and very close to the waterfront  hint  eat at ivar s acres of clams     i will definitely stay here again when i come back to seattle ',\n",
       " 'i booked a city view room last minute for my husband s 50th birthday  i was relieved and surprised that the reservations were correct since it was such short notice  i also had a very last minute request   that there be something waiting in the room for my husband  card  balloons  wine  etc    i was delighted when we arrived that the hotel staff greeted my husband with a  happy birthday  and when we entered our room there was a chilled bottle of sparkling wine awaiting us  it was perfect  we had a king bed in a city view room with a wonderful little balcony  it was a bit chilly  but we still managed to enjoy the balcony for awhile  the bed and pillows were great  no problems with the wireless internet  it was just a wonderful stay  we were within walking distance of everything   had a nice seafood dinner  mccormick   schmick s  and visited several breweries  we had fallen in love with this hotel on a previous visit  within walking distance to qwest and safeco   so we knew of the perfect little martini bar  martin s martini heaven  just across the street from our hotel  wonderful way to end the evening  was a quick trip  but this hotel made it comfortable  relaxing  convenient  and romantic    just perfect ',\n",
       " 'this was old world excellence at it s best this is the place to stay at when visiting the historical area of seattle  your right on the water front near the ferry s and great sea food restraunts and still with in walking distance for great blues and jazz music  the staff for this hotel are excellent they make you feel right at home  the breakfast was great we did nt have to travel far to have a good cup of  joe  and a light meal to start our adventurous day off into one of the most beautifull city s in america  this hotel is in an area that makes it easy to get to any place you want to go and still find your way back  i highly recomend this hotel for your next visit to seattle ',\n",
       " 'we attend seahawks and mariners games and this hotel is within walking distance of both  it is 2 blocks from the washington state ferry terminal so we can walk across the ferry and walk directly to the hotel  the hotel staff is always friendly  rooms are very clean and the free breakfast is a real money saver  much more variety than most and they just added a new waflfe station  highly recommend this hotel  marilyn j ',\n",
       " 'very clean  free breakfast with good selections  staff friendly and most helpful  a grat stay ',\n",
       " 'the pioneer square is a pleasant smallish hotel in an interesting corner of seattle  comfortable rooms and bathroom  if oddly shaped and not very large  which were fine for a short stay  the breakfasts are limited but acceptable and the breakfast room is enlivened by the sight of fellow guests attempting to work out the waffle maker  pleasant staff and reception  apparantly family run and up to the usual best western standards  clean and well appointed  several restaurants nearby but we suggest avoiding the closest  al boccalino  a rather pretentious but unexceptional italian 3 or 4 doors away  expensive for what you get  we were told very offhandedly that they had no washington wines   we are an italian restaurant   at  60 to  100 for bottles one would pay no more than â 10 for in a uk off licence  forget it ',\n",
       " 'we had four great days here recently   location is fantastic given that there is so much within walking distance  including stadia and railway station   and if it rains  which is does here  transit is free in a large zone of downtown  front desk staff could not have been more helpful and have a sense of humour  the concierge knew the answers to the questions we had  and the room was quiet and clean and comfortable  we will return    ',\n",
       " 'a restored hotel in the pioneer square section of seattle  this little gem was delightful  rooms are small  but clean and tasteful  the only thing better was the hotel staff  they were extremely helpful  professional and knowledgeable about the area  all their recommendations were on the mark  would definitely return ',\n",
       " 'we have called this hotel home for 3 4 nights once a year for the past five years  the staff is wonderful  the rooms are clean  and the breakfast is great  no views but we stay on the go so much that who cares  you can walk to safeco for ballgames  walk to pike market  the art museum  the library  three book stores  and you are right on the waterfront  i recommend it highly and look forward to more stays ',\n",
       " 'my husband and i spent 3 nights at the best western pioneer square hotel and it was great  the hotel is a very old one that has been completely remodeled and is just beautiful  the people who work there were very friendly and extremely helpful  the rooms were nice  large  clean and inviting  every night the staff came by and offered more towels  turned down your bed and put candy on the pillows  the location  in pioneer square  was fantastic  you walk up half a block and catch a free bus to anywhere  walk down a block to the waterfront and catch the ferry to one of the islands  it was so easy to get around that we didn t bother to rent a car  we definitely enjoyed our stay and would stay there again and would recommend it to anyone ',\n",
       " 'i stayed at the best western pioneer square for two nights last month  and was very impressed  it was close to safeco field and the other attractions in the area as well as the best continental breakfast i ve ever had at a hotel  great selection and quality items to select from  staff was friendly and helpful with directions and bus routes  one of the stops for the bus to from sea tac is only a few blocks away   rooms were very clean and comfortable  i didn t get any discounts on the room  but it was still a great deal compared to what other hotels in downtown were charging ',\n",
       " 'this hotel was a great place to stay  the rooms were very clean  and the staff very friendly and helpful  its location is ideal to see seattle  the sports stadiums are a 10  walk or walking to pikes market is a 15 20  walk or you can take the tram  i have stayed at this hotel several times and plan on staying there again ',\n",
       " 'my husband and i just spent 6 nights in this hotel and loved every minute  the staff is friendly and efficient  we stayed for 4 nights  left to go to victoria bc  then came back for 2 more nights  the hotel has  old world  charm  the room decor is very well done   down to the drapery  carpet and nice artwork on the walls  the bathrooms are modern and nicely sized  the beds were very comfortable  the rooms and bathrooms were spotless  the linens were fresh and spotless as well  the fresh fruit and free bottled water was a nice touch and very much appreciated  the breakfast room was clean and always stocked with the daily offerings  the coffee was good and the waffles were addicting  even the elevator was fast and roomy  you don t realize how much you appreciate that until you go to another hotel where the elevators are sloooooow and tiny  as they were in our victoria bc hotel   the pioneer square area is lively and exciting with lots of little shops and restaurants  we walked around the area at night and didn t feel unsafe  other people mentioned street people as problematic  this is a fact of life in any large city  but none of the street people were aggressive or abusive  just a block away  they offer a tour of seattle underground which was interesting  pizza at mario s was delicious  dinner at elliott s oyster house at pier 56 was wonderful  we found seattle to be a great city with friendly people who are helpful and polite to tourists  we hope to visit again some day and when we do  we will again stay at the best western pioneer square hotel ',\n",
       " 'we stayed at the best western pioneer square for 2 nights prior to our alaskan cruise  this was a family reunion of sorts  and the hotel was wonderful in working with us to get 6 rooms with the set up needed for each family and all together on one floor of the hotel  hotel staff very nice to work with  this is a perfect location for walking around downtown seattle and the waterfront  very easy walking to pike street market  the waterfront  etc  hotel very kindly arranged taxi van service for all of us on the morning we needed to get to the pier with all of our luggage  rooms are small compared to some other hotels  but very clean and nice  free continental breakfast was nice  there was juice  coffee  cereals  milk  danish  bagels  toast  boiled eggs  etc  great price and great location  we will stay here on our next trip to seattle ',\n",
       " 'we stayed here for a girls  trip in a standard double double  the hotel is well located  across from the ferry docks  and within walking distance to public transportation  the rooms are small  and the view from our window was not great  but the staff was wonderful and the continental breakfast in the morning with eggs  yogurt  oatmeal  toast and muffins  fruit  etc  filled us up  we spent three nights here and had a wonderful time  i would not recommend this hotel for a big group or family  since the public spaces tend on the small side  nice get away for singles or couples trips ',\n",
       " 'spent 4 wonderful nights in seattle  caught a seahawks game  and did some sightseeing  the hotel staff was professional  the free continental breakfast was nice  and the room was comfortable for a family of four  the only flaw i found  our high speed internet connection did not work in the room  but  they have a computer in the conference room downstairs for guests so not a big issue  the area in pioneer square was nice and to all of the shops we hit on 1st ave  despite some older reviews concerning the homeless people we never encountered any aggressive homeless person nor did we ever feel threatened  the restaurant next to the hotel  julies garden  was good with big portions  but  our spot was the pho restaurant across the street from the hotel  we cant wait to come back to seattle for another seahawk mariner game  we will definitely stay at the best western pioneer square  john phillips',\n",
       " 'nice and clean  with some character  very friendly and helpful front desk staff  fantastic location ',\n",
       " 'my husband and i spent a week in seattle  basically did a sightseeing pub crawl tour of the city  this hotel is the only one in pioneer square  and it is within walking distance of everything  in fact  it s across the street from the waterfront  which is a popular place to go walking and sightseeing  we never rented a car or taxi  didn t need one  granted  we walked about 3 5 miles a day  but stopped anywhere we wanted along the way  you don t need a car in the city  and you have to call for taxis anyway   why not walk  the room was always clean  and a decent size for the two of us  it had a weird smell though  but it wasn t something we couldn t tolerate  though  it is very charming and cozy  and is within a few yards of great restaurants and bars  in fact  out of all the meals we ate  the restaurant next door  al boccalino s  was the best  they provide room service for the hotel  and they have some of the best italian food i ve ever had  somewhat pricey  but it was so good  hotel staff were friendly  but not the most knowledgeable of all the questions i asked  such as  can they help with reservations for the victoria clipper  what bus   do we take to go to ballard  etc    but  they were very nice and always tried to help  the hotel was quiet when we were there  even though it seemed to be very crowded  i would recommend it to anyone  with our aaa membership  we paid  161 a night  except for friday night  which was more expensive ',\n",
       " 'we stayed at this hotel while in seattle on business  check in was very complicated they had no parking available when we arrived and the front desk staff was not helpful at all with the parking situation  our company was paying for the stay but when we arrived we had to wait 45 minutes for someone in the office to figure out what was going on  when we arrived in our room we were plesantly surprised it was large very clean and comfortable  the wireless internet left a lot to be desired very slow and constant drop offs  in the evening the noise from the freeway nearby was constant   for the money that this establishment cost we could have stayed in a sheraton or hilton and been a lot happier',\n",
       " 'i love this hotel  the staff was amazing  we had never been to seattle before and were probably terribly annoying with our endless questions and need for directions  but the staff was extremely patient and every person we talked to was just great  i can t say enough good things about the best western pioneer square  we chose it for the location  but the room was spotless and we had such a great time  we will definitely be back ']"
      ]
     },
     "execution_count": 64,
     "metadata": {},
     "output_type": "execute_result"
    }
   ],
   "source": [
    "select_comments = []\n",
    "for comment in comments:\n",
    "    temp = comment.lower()\n",
    "    if 'staff' in temp:\n",
    "        select_comments.append(temp)\n",
    "\n",
    "len(select_comments)\n",
    "select_comments\n",
    "     "
   ]
  },
  {
   "cell_type": "markdown",
   "metadata": {},
   "source": [
    "## Using TextBlob for sentiment analysis\n",
    "\n",
    "__[TextBlob](https://textblob.readthedocs.io/en/dev/)__"
   ]
  },
  {
   "cell_type": "markdown",
   "metadata": {},
   "source": [
    "### Sentiment Analysis\n",
    "\n",
    "Sentiment property returns values of polarity and subjectivity.  The polarity score is a float that ranges from -1.0 to 1.0.  Typically a polarity score below -0.5 is negative, a score above 0.5 is positive and a score in between is considered neutral.\n",
    "\n",
    "The subjectivity score is a float that ranges between 0.0 and 1.0 where the lower scores are very objective and the scores closer to 1.0 are very subjective."
   ]
  },
  {
   "cell_type": "code",
   "execution_count": 65,
   "metadata": {},
   "outputs": [
    {
     "data": {
      "text/plain": [
       "[0.39714912280701753,\n",
       " 0.34239583333333334,\n",
       " 0.32708333333333334,\n",
       " 0.10261111111111113,\n",
       " 0.4734568903318903,\n",
       " 0.31203703703703706,\n",
       " 0.16383333333333336,\n",
       " 0.31614583333333335,\n",
       " 0.24506666666666668,\n",
       " 0.1331547619047619]"
      ]
     },
     "execution_count": 65,
     "metadata": {},
     "output_type": "execute_result"
    }
   ],
   "source": [
    "comment_sent_pol = [TextBlob(review).sentiment.polarity for review in select_comments]\n",
    "comment_sent_pol[:10]"
   ]
  },
  {
   "cell_type": "code",
   "execution_count": 66,
   "metadata": {},
   "outputs": [
    {
     "data": {
      "text/plain": [
       "145"
      ]
     },
     "execution_count": 66,
     "metadata": {},
     "output_type": "execute_result"
    }
   ],
   "source": [
    "len(comment_sent_pol)"
   ]
  },
  {
   "cell_type": "markdown",
   "metadata": {},
   "source": [
    "Let us see how the sentiment polarity are distributed.  With `staff` being mentioned so many times, the Best Western management wants to know if the comments are more positive or negative."
   ]
  },
  {
   "cell_type": "code",
   "execution_count": 67,
   "metadata": {},
   "outputs": [
    {
     "data": {
      "text/plain": [
       "(array([ 4.,  9., 18., 16., 28., 26., 18., 12., 10.,  4.]),\n",
       " array([0.00506536, 0.06407734, 0.12308932, 0.18210131, 0.24111329,\n",
       "        0.30012527, 0.35913725, 0.41814924, 0.47716122, 0.5361732 ,\n",
       "        0.59518519]),\n",
       " <BarContainer object of 10 artists>)"
      ]
     },
     "execution_count": 67,
     "metadata": {},
     "output_type": "execute_result"
    },
    {
     "data": {
      "image/png": "[encoded data removed]",
      "text/plain": [
       "<Figure size 432x288 with 1 Axes>"
      ]
     },
     "metadata": {
      "needs_background": "light"
     },
     "output_type": "display_data"
    }
   ],
   "source": [
    "plt.hist(comment_sent_pol)"
   ]
  },
  {
   "cell_type": "markdown",
   "metadata": {},
   "source": [
    "You can see by the histogram, which is relatively symmetric in shape, that all comments have a polarity above zero with some above 0.5. Even though there are no negative polarity scores, most lie between 0.1 and 0.5 indicating mostly neutral reviews."
   ]
  },
  {
   "cell_type": "markdown",
   "metadata": {},
   "source": [
    "<div class=\"alert alert-block alert-success\"><b>Problem 7 (5 pts.)</b>:  \n",
    "    \n",
    "Isolate the comments containing at least one instance of the word <b>'comfortable'</b>. \n",
    "1. Save the comments to a list.\n",
    "2. Create a histogram to display the distribution of the average polarities. \n",
    "3. Interpret the results.\n",
    "\n",
    "</div>"
   ]
  },
  {
   "cell_type": "code",
   "execution_count": 68,
   "metadata": {},
   "outputs": [],
   "source": [
    "#TODO - create a list of comments that contain the word 'comfortable'. Make sure the comments have already\n",
    "# had punctuation removed and have been put into lowercase.\n",
    "select_comments = []\n",
    "for comment in comments:\n",
    "    temp = comment.lower()\n",
    "    if 'comfortable' in temp:\n",
    "        select_comments.append(temp)\n",
    "     \n",
    "\n",
    "\n",
    "\n"
   ]
  },
  {
   "cell_type": "code",
   "execution_count": 144,
   "metadata": {},
   "outputs": [
    {
     "data": {
      "text/plain": [
       "(array([ 4.,  9., 18., 16., 28., 26., 18., 12., 10.,  4.]),\n",
       " array([0.00506536, 0.06407734, 0.12308932, 0.18210131, 0.24111329,\n",
       "        0.30012527, 0.35913725, 0.41814924, 0.47716122, 0.5361732 ,\n",
       "        0.59518519]),\n",
       " <BarContainer object of 10 artists>)"
      ]
     },
     "execution_count": 144,
     "metadata": {},
     "output_type": "execute_result"
    },
    {
     "data": {
      "image/png": "[encoded data removed]",
      "text/plain": [
       "<Figure size 432x288 with 1 Axes>"
      ]
     },
     "metadata": {
      "needs_background": "light"
     },
     "output_type": "display_data"
    }
   ],
   "source": [
    "#TODO show a histogram of the polarity\n",
    "comment_sent_pol = [TextBlob(review).sentiment.polarity for review in select_comments]\n",
    "plt.hist(comment_sent_pol)"
   ]
  },
  {
   "cell_type": "markdown",
   "metadata": {},
   "source": [
    "#TODO - Interpret the results. \n",
    "The histogram shown is slightly skewed right. All of the comments have a polarity above zero with only a few above 0.5. Most comments lie around 0.2-0.4 which indicates that most of the reviews are neutral."
   ]
  },
  {
   "cell_type": "markdown",
   "metadata": {},
   "source": [
    "While iterating over the reviews we can also easily obtain their ratings. For example, let's save the `Cleanliness` ratings "
   ]
  },
  {
   "cell_type": "code",
   "execution_count": 80,
   "metadata": {},
   "outputs": [
    {
     "data": {
      "text/plain": [
       "218"
      ]
     },
     "execution_count": 80,
     "metadata": {},
     "output_type": "execute_result"
    },
    {
     "name": "stdout",
     "output_type": "stream",
     "text": [
      "The average 'Cleanliness' ratings of the reviews is 4.6422018348623855\n"
     ]
    }
   ],
   "source": [
    "ratings = []\n",
    "for review in hotel_data['Reviews']:\n",
    "    if \"Cleanliness\" in review['Ratings'] :\n",
    "        ratings.append(int(review['Ratings']['Cleanliness'])) # convert '1' to 1, etc.\n",
    "len(ratings)\n",
    "print(f\"The average 'Cleanliness' ratings of the reviews is {mean(ratings)}\")"
   ]
  },
  {
   "cell_type": "markdown",
   "metadata": {},
   "source": [
    "<div class=\"alert alert-block alert-success\"><b>Problem 8 (6 pts.)</b>:  \n",
    "    \n",
    "Iterate over all the reviews to create two lists: `pol_data` and `serv_rating_data`.<br> \n",
    "1. For each review that contains both a \"Service\" rating <b>and</b> contains the word \"staff\", save the \"Service\" rating to `serv_rating_data`<br>\n",
    "2. Find the average sentiment polarity (like you did in Problem 7) and save it to `pol_data`. The two lists should have the same length (of **138**). <br>\n",
    "3. Create a side by side box plot of each of the 5 ratings to show the range of values for each rating. (Note that no review containing \"staff\" in the comments received a rating of `2`. So only 4 box plots should show up. ) \n",
    "\n",
    "</div>"
   ]
  },
  {
   "cell_type": "code",
   "execution_count": 155,
   "metadata": {},
   "outputs": [
    {
     "data": {
      "text/plain": [
       "138"
      ]
     },
     "execution_count": 155,
     "metadata": {},
     "output_type": "execute_result"
    },
    {
     "data": {
      "text/plain": [
       "138"
      ]
     },
     "execution_count": 155,
     "metadata": {},
     "output_type": "execute_result"
    }
   ],
   "source": [
    "import nltk\n",
    "#nltk.download('punkt')\n",
    "\n",
    "pol_data = []\n",
    "serv_rating_data = []\n",
    "# TO DO: Iterate over all the reviews to build the lists 'pol_data' and 'serv_rating_data'\n",
    "  \n",
    "# TO DO: Find the reviews that contain both a \"Service\" rating and the word \"staff\" \n",
    "# and save them to the list 'serv_rating_data'\n",
    "for review in reviews: \n",
    "    comment = re.sub(r'[^\\w\\s]', \" \", review['Content'])\n",
    "    temp = comment.lower()\n",
    "    if 'staff' in temp and 'Service' in review['Ratings']:\n",
    "        serv_rating_data.append(int(review['Ratings']['Service']))\n",
    "        \n",
    "# TO DO: Find the polarity of each sentence then find the averages and save them to 'pol_data'\n",
    "        sent_pols = []\n",
    "        for sentence in TextBlob(temp).sentences:\n",
    "            if 'staff' in sentence:\n",
    "                sent_pols.append(sentence.polarity)\n",
    "        avg_pol = mean(sent_pols)\n",
    "        pol_data.append(avg_pol)\n",
    "            \n",
    "\n",
    "# TO DO: Verify 'pol_data' and 'serv_rating_data' each have a length of 138.\n",
    "len(pol_data)\n",
    "len(serv_rating_data)\n",
    "    "
   ]
  },
  {
   "cell_type": "markdown",
   "metadata": {},
   "source": [
    "Here are the first 5 elements of pol_data: 0.0, 0.375, 0.4, 0.4375, 0.1875, ...\n",
    "And the first 5 elements of serv_ratings_data: 4, 5, 5, 5, 4, ..."
   ]
  },
  {
   "cell_type": "code",
   "execution_count": 158,
   "metadata": {},
   "outputs": [
    {
     "data": {
      "text/plain": [
       "<AxesSubplot:xlabel='Ratings', ylabel='Polarity'>"
      ]
     },
     "execution_count": 158,
     "metadata": {},
     "output_type": "execute_result"
    },
    {
     "data": {
      "image/png": "[encoded data removed]",
      "text/plain": [
       "<Figure size 432x288 with 1 Axes>"
      ]
     },
     "metadata": {
      "needs_background": "light"
     },
     "output_type": "display_data"
    }
   ],
   "source": [
    "# TO DO: Create a side by side box plot of each of the ratings\n",
    "df = pd.DataFrame(zip(serv_rating_data,pol_data),columns = ['Ratings', 'Polarity'])\n",
    "sns.boxplot(data=df, x = 'Ratings', y = 'Polarity')\n"
   ]
  },
  {
   "cell_type": "code",
   "execution_count": null,
   "metadata": {},
   "outputs": [],
   "source": []
  }
 ],
 "metadata": {
  "kernelspec": {
   "display_name": "Python 3",
   "language": "python",
   "name": "python3"
  },
  "language_info": {
   "codemirror_mode": {
    "name": "ipython",
    "version": 3
   },
   "file_extension": ".py",
   "mimetype": "text/x-python",
   "name": "python",
   "nbconvert_exporter": "python",
   "pygments_lexer": "ipython3",
   "version": "3.8.5"
  },
  "toc": {
   "base_numbering": 1,
   "nav_menu": {},
   "number_sections": false,
   "sideBar": true,
   "skip_h1_title": false,
   "title_cell": "Table of Contents",
   "title_sidebar": "Contents",
   "toc_cell": false,
   "toc_position": {},
   "toc_section_display": true,
   "toc_window_display": false
  }
 },
 "nbformat": 4,
 "nbformat_minor": 4
}
